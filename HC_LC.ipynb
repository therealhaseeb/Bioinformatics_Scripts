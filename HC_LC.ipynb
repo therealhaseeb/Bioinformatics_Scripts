{
 "cells": [
  {
   "cell_type": "code",
   "execution_count": 1,
   "metadata": {
    "scrolled": true
   },
   "outputs": [
    {
     "name": "stderr",
     "output_type": "stream",
     "text": [
      "Running on Apache Spark version 2.4.5\n",
      "SparkUI available at http://hail-py-m.us-central1-f.c.cncd-cncd.internal:4041\n",
      "Welcome to\n",
      "     __  __     <>__\n",
      "    / /_/ /__  __/ /\n",
      "   / __  / _ `/ / /\n",
      "  /_/ /_/\\_,_/_/_/   version 0.2.59-63cf625e29e5\n",
      "LOGGING: writing to /hail-20201215-0801-0.2.59-63cf625e29e5.log\n"
     ]
    }
   ],
   "source": [
    "import pandas as pd\n",
    "import hail as hl\n",
    "hl.init()"
   ]
  },
  {
   "cell_type": "code",
   "execution_count": 2,
   "metadata": {},
   "outputs": [
    {
     "name": "stdout",
     "output_type": "stream",
     "text": [
      "rm: cannot remove '*.xlsx': No such file or directory\r\n"
     ]
    }
   ],
   "source": [
    "!rm *.xlsx"
   ]
  },
  {
   "cell_type": "code",
   "execution_count": 6,
   "metadata": {
    "scrolled": true
   },
   "outputs": [
    {
     "name": "stdout",
     "output_type": "stream",
     "text": [
      "Reading Data\n",
      "(26263, 7482)\n",
      "Annotate Heterozygous Alleles\n",
      "Annotate N Hets\n",
      "Annotate Homozygous Alleles\n",
      "Annotating N Homs\n",
      "Selecting Data To Query\n",
      "Converting To Pandas\n",
      "Copying file://Chr168k_HC.xlsx [Content-Type=application/vnd.openxmlformats-officedocument.spreadsheetml.sheet]...\n",
      "/ [1/1 files][  2.1 MiB/  2.1 MiB] 100% Done                                    \n",
      "Operation completed over 1 objects/2.1 MiB.                                      \n",
      "Done\n"
     ]
    }
   ],
   "source": [
    "for chro in [16]:\n",
    "#     try:#pgr-wgs-2k/VEP_VCF/Chr1_2k_wgs.mt\n",
    "        print(\"Reading Data\")\n",
    "        data = hl.read_matrix_table(\"gs://pgr-wgs-8k/VEP_VCF/pgr8k_chr\"+str(chro)+\"_VEP.mt\")\n",
    "#         print(\"Filtering Transcripts\")\n",
    "#         canonical = data.vep.transcript_consequences.filter(lambda csq: csq.canonical == 1)\n",
    "#         data = data.annotate_rows(canonical_transcript=canonical)\n",
    "#         data = data.filter_rows( ( data.vep.transcript_consequences.gene_symbol.contains('GSDMD') ))\n",
    "        data = data.filter_rows( ( data.vep.transcript_consequences.lof.contains('HC') ))\n",
    "#         data = data.filter_rows(hl.len(data.canonical_transcript.exon) != 0)\n",
    "#         data.rows().show()\n",
    "        print(data.count())\n",
    "#         print(\"Annotating DB\")\n",
    "#         db = hl.experimental.DB()\n",
    "#         data = db.annotate_rows_db(data, 'clinvar_variant_summary','dbNSFP_genes','dbNSFP_variants','gnomad_exome_sites')\n",
    "#         data.rows().show()\n",
    "#         print(\"Saving to Disk\")\n",
    "        mt=data\n",
    "#             mt.GT.show(10, n_cols=10)\n",
    "        ab = mt.AD[1] / hl.sum(mt.AD)\n",
    "        filter_condition_ab = ( (mt.GT.is_hom_ref() & (ab <= 0.1)) |\n",
    "                                (mt.GT.is_het() & (ab >= 0.25) & (ab <= 0.75)) |\n",
    "                                (mt.GT.is_hom_var() & (ab >= 0.9)))\n",
    "\n",
    "        fraction_filtered = mt.aggregate_entries(hl.agg.fraction(~filter_condition_ab))\n",
    "#         print(f'Filtering {fraction_filtered * 100:.2f}% entries out of downstream analysis.')\n",
    "        mt1 = mt.filter_entries(filter_condition_ab)\n",
    "#             mt1.GT.show(10, n_cols=10)\n",
    "\n",
    "        filter_condition_ab = ( (mt1.GQ > 20) & (mt1.DP < 200) & (mt1.DP > 10) )\n",
    "#             mt1.DP.show(10, n_cols=10)\n",
    "        fraction_filtered = mt1.aggregate_entries(hl.agg.fraction(~filter_condition_ab))\n",
    "#         print(f'Filtering {fraction_filtered * 100:.2f}% entries out of downstream analysis.')\n",
    "\n",
    "        mt3 = mt1.filter_entries(filter_condition_ab)\n",
    "#             mt3.DP.show(10, n_cols=10)\n",
    "        data = mt3\n",
    "        \n",
    "        data = data.filter_rows(data.variant_qc.AF[1] < 0.05)\n",
    "        \n",
    "        print('Annotate Heterozygous Alleles')\n",
    "        ds_result1 = data.annotate_rows(hets = hl.agg.filter(data.GT.is_het(),hl.agg.collect(data.s)))\n",
    "        ds_result1.count()\n",
    "        print('Annotate N Hets')\n",
    "        ds_result4 = ds_result1.annotate_rows(n_het = hl.agg.count_where(ds_result1.GT.is_het()))\n",
    "        ds_result4.count()\n",
    "        print('Annotate Homozygous Alleles')\n",
    "        ds_result3 = ds_result4.annotate_rows(homs = hl.agg.filter(ds_result4.GT.is_hom_var(),hl.agg.collect(ds_result4.s)))\n",
    "        ds_result3.count()\n",
    "        print('Annotating N Homs')\n",
    "        ds_result5 = ds_result3.annotate_rows(n_hom = hl.agg.count_where(ds_result3.GT.is_hom_var()))\n",
    "        ds_result5.count()\n",
    "#         ds_result5.rows().show()\n",
    "\n",
    "        print('Selecting Data To Query')\n",
    "        ds_result6 = ds_result5.rows()\n",
    "        ds_result6 = ds_result6.key_by()\n",
    "\n",
    "        print('Converting To Pandas')\n",
    "        finData_All = ds_result6.select(\n",
    "            locus=ds_result6.locus,\n",
    "            alleles=ds_result6.alleles,\n",
    "            gene=ds_result6.vep.transcript_consequences.gene_symbol,\n",
    "            maf=ds_result6.variant_qc.AF[1],\n",
    "            lof=ds_result6.vep.transcript_consequences.lof,\n",
    "            consequence=ds_result6.vep.most_severe_consequence,\n",
    "#             amino_acid=ds_result6.vep.transcript_consequences.amino_acids,\n",
    "#             exons=ds_result6.vep.transcript_consequences.exon,\n",
    "            amino_acids=ds_result6.vep.transcript_consequences.amino_acids,\n",
    "            protein_end=ds_result6.vep.transcript_consequences.protein_end, \n",
    "            protein_start=ds_result6.vep.transcript_consequences.protein_start, \n",
    "            protein_id=ds_result6.vep.transcript_consequences.protein_id, \n",
    "            hets=ds_result6.hets,\n",
    "            n_hets=ds_result6.n_het,\n",
    "            homs=ds_result6.homs,\n",
    "            n_homs=ds_result6.n_hom\n",
    "        ).to_pandas()      \n",
    "\n",
    "        finData_All.to_excel(\"Chr\"+str(chro)+\"8k_HC.xlsx\")\n",
    "        !gsutil -m cp *.xlsx gs://pgr-wgs-8k/Complete_Annotations/HC/\n",
    "        !rm *.xlsx\n",
    "        print(\"Done\")\n",
    "\n",
    "#         data.write(\"gs://pgr-wgs-2k/Complete_Annotations/Canonical/2K_Chr\"+str(chro)+\"_VEP_DB_C.mt\", overwrite=True)\n",
    "#     except:\n",
    "#         print(\"Error in Chr\", chro)"
   ]
  },
  {
   "cell_type": "code",
   "execution_count": 5,
   "metadata": {},
   "outputs": [
    {
     "data": {
      "text/html": [
       "<table><thead><tr><td style=\"white-space: nowrap; max-width: 500px; overflow: hidden; text-overflow: ellipsis; \" colspan=\"1\"><div style=\"text-align: left;\"></div></td><td style=\"white-space: nowrap; max-width: 500px; overflow: hidden; text-overflow: ellipsis; \" colspan=\"1\"><div style=\"text-align: left;\"></div></td><td style=\"white-space: nowrap; max-width: 500px; overflow: hidden; text-overflow: ellipsis; \" colspan=\"1\"><div style=\"text-align: left;\"></div></td></tr><tr><td style=\"white-space: nowrap; max-width: 500px; overflow: hidden; text-overflow: ellipsis; \" colspan=\"1\"><div style=\"text-align: left;border-bottom: solid 2px #000; padding-bottom: 5px\">locus</div></td><td style=\"white-space: nowrap; max-width: 500px; overflow: hidden; text-overflow: ellipsis; \" colspan=\"1\"><div style=\"text-align: left;border-bottom: solid 2px #000; padding-bottom: 5px\">alleles</div></td><td style=\"white-space: nowrap; max-width: 500px; overflow: hidden; text-overflow: ellipsis; \" colspan=\"1\"><div style=\"text-align: left;border-bottom: solid 2px #000; padding-bottom: 5px\"><expr></div></td></tr><tr><td style=\"white-space: nowrap; max-width: 500px; overflow: hidden; text-overflow: ellipsis; text-align: left;\">locus&lt;GRCh38&gt;</td><td style=\"white-space: nowrap; max-width: 500px; overflow: hidden; text-overflow: ellipsis; text-align: left;\">array&lt;str&gt;</td><td style=\"white-space: nowrap; max-width: 500px; overflow: hidden; text-overflow: ellipsis; text-align: left;\">array&lt;str&gt;</td></tr>\n",
       "</thead><tbody><tr><td style=\"white-space: nowrap; max-width: 500px; overflow: hidden; text-overflow: ellipsis; \">chr16:47439</td><td style=\"white-space: nowrap; max-width: 500px; overflow: hidden; text-overflow: ellipsis; \">[&quot;C&quot;,&quot;A&quot;]</td><td style=\"white-space: nowrap; max-width: 500px; overflow: hidden; text-overflow: ellipsis; \">[NA,NA]</td></tr>\n",
       "<tr><td style=\"white-space: nowrap; max-width: 500px; overflow: hidden; text-overflow: ellipsis; \">chr16:47440</td><td style=\"white-space: nowrap; max-width: 500px; overflow: hidden; text-overflow: ellipsis; \">[&quot;C&quot;,&quot;A&quot;]</td><td style=\"white-space: nowrap; max-width: 500px; overflow: hidden; text-overflow: ellipsis; \">[NA,NA]</td></tr>\n",
       "<tr><td style=\"white-space: nowrap; max-width: 500px; overflow: hidden; text-overflow: ellipsis; \">chr16:47443</td><td style=\"white-space: nowrap; max-width: 500px; overflow: hidden; text-overflow: ellipsis; \">[&quot;C&quot;,&quot;T&quot;]</td><td style=\"white-space: nowrap; max-width: 500px; overflow: hidden; text-overflow: ellipsis; \">[NA,NA]</td></tr>\n",
       "<tr><td style=\"white-space: nowrap; max-width: 500px; overflow: hidden; text-overflow: ellipsis; \">chr16:47444</td><td style=\"white-space: nowrap; max-width: 500px; overflow: hidden; text-overflow: ellipsis; \">[&quot;G&quot;,&quot;A&quot;]</td><td style=\"white-space: nowrap; max-width: 500px; overflow: hidden; text-overflow: ellipsis; \">[NA,NA]</td></tr>\n",
       "<tr><td style=\"white-space: nowrap; max-width: 500px; overflow: hidden; text-overflow: ellipsis; \">chr16:47447</td><td style=\"white-space: nowrap; max-width: 500px; overflow: hidden; text-overflow: ellipsis; \">[&quot;G&quot;,&quot;A&quot;]</td><td style=\"white-space: nowrap; max-width: 500px; overflow: hidden; text-overflow: ellipsis; \">[NA,NA]</td></tr>\n",
       "<tr><td style=\"white-space: nowrap; max-width: 500px; overflow: hidden; text-overflow: ellipsis; \">chr16:47461</td><td style=\"white-space: nowrap; max-width: 500px; overflow: hidden; text-overflow: ellipsis; \">[&quot;T&quot;,&quot;C&quot;]</td><td style=\"white-space: nowrap; max-width: 500px; overflow: hidden; text-overflow: ellipsis; \">[NA,NA]</td></tr>\n",
       "<tr><td style=\"white-space: nowrap; max-width: 500px; overflow: hidden; text-overflow: ellipsis; \">chr16:47462</td><td style=\"white-space: nowrap; max-width: 500px; overflow: hidden; text-overflow: ellipsis; \">[&quot;T&quot;,&quot;C&quot;]</td><td style=\"white-space: nowrap; max-width: 500px; overflow: hidden; text-overflow: ellipsis; \">[NA,NA]</td></tr>\n",
       "<tr><td style=\"white-space: nowrap; max-width: 500px; overflow: hidden; text-overflow: ellipsis; \">chr16:47464</td><td style=\"white-space: nowrap; max-width: 500px; overflow: hidden; text-overflow: ellipsis; \">[&quot;C&quot;,&quot;T&quot;]</td><td style=\"white-space: nowrap; max-width: 500px; overflow: hidden; text-overflow: ellipsis; \">[NA,NA]</td></tr>\n",
       "<tr><td style=\"white-space: nowrap; max-width: 500px; overflow: hidden; text-overflow: ellipsis; \">chr16:47470</td><td style=\"white-space: nowrap; max-width: 500px; overflow: hidden; text-overflow: ellipsis; \">[&quot;T&quot;,&quot;C&quot;]</td><td style=\"white-space: nowrap; max-width: 500px; overflow: hidden; text-overflow: ellipsis; \">[NA,NA]</td></tr>\n",
       "<tr><td style=\"white-space: nowrap; max-width: 500px; overflow: hidden; text-overflow: ellipsis; \">chr16:47471</td><td style=\"white-space: nowrap; max-width: 500px; overflow: hidden; text-overflow: ellipsis; \">[&quot;T&quot;,&quot;C&quot;]</td><td style=\"white-space: nowrap; max-width: 500px; overflow: hidden; text-overflow: ellipsis; \">[NA,NA]</td></tr>\n",
       "</tbody></table><p style=\"background: #fdd; padding: 0.4em;\">showing top 10 rows</p>\n"
      ],
      "text/plain": [
       "+---------------+------------+------------+\n",
       "| locus         | alleles    | <expr>     |\n",
       "+---------------+------------+------------+\n",
       "| locus<GRCh38> | array<str> | array<str> |\n",
       "+---------------+------------+------------+\n",
       "| chr16:47439   | [\"C\",\"A\"]  | [NA,NA]    |\n",
       "| chr16:47440   | [\"C\",\"A\"]  | [NA,NA]    |\n",
       "| chr16:47443   | [\"C\",\"T\"]  | [NA,NA]    |\n",
       "| chr16:47444   | [\"G\",\"A\"]  | [NA,NA]    |\n",
       "| chr16:47447   | [\"G\",\"A\"]  | [NA,NA]    |\n",
       "| chr16:47461   | [\"T\",\"C\"]  | [NA,NA]    |\n",
       "| chr16:47462   | [\"T\",\"C\"]  | [NA,NA]    |\n",
       "| chr16:47464   | [\"C\",\"T\"]  | [NA,NA]    |\n",
       "| chr16:47470   | [\"T\",\"C\"]  | [NA,NA]    |\n",
       "| chr16:47471   | [\"T\",\"C\"]  | [NA,NA]    |\n",
       "+---------------+------------+------------+\n",
       "showing top 10 rows"
      ]
     },
     "metadata": {},
     "output_type": "display_data"
    }
   ],
   "source": [
    "data.vep.transcript_consequences.lof.show()"
   ]
  },
  {
   "cell_type": "code",
   "execution_count": null,
   "metadata": {},
   "outputs": [],
   "source": [
    "ds_result5.info.ANN[0][0].show()"
   ]
  },
  {
   "cell_type": "code",
   "execution_count": null,
   "metadata": {},
   "outputs": [],
   "source": []
  },
  {
   "cell_type": "code",
   "execution_count": null,
   "metadata": {
    "scrolled": true
   },
   "outputs": [],
   "source": [
    "for chro in list(range(1,23))+['X','Y']:\n",
    "#     try:#pgr-wgs-2k/VEP_VCF/Chr1_2k_wgs.mt\n",
    "        print(\"Reading Data\")\n",
    "        data = hl.read_matrix_table(\"gs://pgr-wgs-2k/VEP_VCF/Chr\"+str(chro)+\"_2k_wgs.mt\")\n",
    "        print(data.count())\n",
    "        print(\"Filtering Transcripts\")\n",
    "        canonical = data.vep.transcript_consequences.filter( lambda csq: csq.canonical == 1 )\n",
    "        data = data.annotate_rows(canonical_transcript=canonical)\n",
    "#         print(data.count())\n",
    "        data = data.canonical_transcript.filter( lambda csq: csq.exon != 0 )\n",
    "        print(data.count())\n",
    "#         data.canonical_transcript.exon.show(500)\n",
    "#     except:\n",
    "#         print(\"Error\",chro)"
   ]
  },
  {
   "cell_type": "code",
   "execution_count": null,
   "metadata": {},
   "outputs": [],
   "source": [
    "data.canonical_transcript.exon.show()"
   ]
  },
  {
   "cell_type": "code",
   "execution_count": null,
   "metadata": {},
   "outputs": [],
   "source": [
    "# data = hl.read_matrix_table(\"gs://pgr-wgs-8k/VEP_VCF/pgr8k_chr21_VEP.mt\")\n",
    "# data.rows().show()\n",
    "# \n",
    "# canonical = data.vep.transcript_consequences.filter(lambda csq: csq.canonical == 1)\n",
    "data1 = data.annotate_rows(transcript_new=canonical)\n",
    "data1.rows().show()\n",
    "# canonical[1].show(1)\n"
   ]
  },
  {
   "cell_type": "code",
   "execution_count": null,
   "metadata": {},
   "outputs": [],
   "source": [
    "chrList = [11]\n",
    "geneList = ['SCN10A']"
   ]
  },
  {
   "cell_type": "code",
   "execution_count": null,
   "metadata": {
    "scrolled": true
   },
   "outputs": [],
   "source": [
    "for chro,gene in zip(chrList, geneList):\n",
    "    try:\n",
    "#         for database in [\n",
    "# #             \"gs://pgr-wes-r20/VEP_VCF/R20_Chr\" + str(chro) + \"_VEP.mt\", \n",
    "# #                          \"gs://pgr-wgs-2k/VEP_VCF/Chr\" + str(chro) + \"_2k_wgs.mt\"\n",
    "#                          \"gs://pgr-wes-30k-mt/Complete_Annotations/Promis30_chr\" + str(chro) + \"_VEP_DB.mt\"\n",
    "#           ]:\n",
    "            print('Importing Data')\n",
    "            data2 = hl.read_matrix_table(\"gs://pgr-wgs-8k/VEP_VCF/pgr8k_chr11_VEP.mt\")\n",
    "            \n",
    "    #         data2 = hl.read_matrix_table(\"gs://pgr-wgs-2k/VEP_VCF/Chr\" + str(chro) + \"_2k_wgs.mt\")\n",
    "    #         data2.rows().show()\n",
    "\n",
    "#             data2 = data2.filter_rows( data2.vep.transcript_consequences.gene_symbol.contains(str(gene)) )\n",
    "#             data2 = hl.split_multi_hts(data2)\n",
    "            data2 = data2.filter_rows( (data2.vep.transcript_consequences.lof.contains('HC')) )\n",
    "            print(data2.count())\n",
    "\n",
    "#             mt=data2\n",
    "# #             mt.GT.show(10, n_cols=10)\n",
    "#             ab = mt.AD[1] / hl.sum(mt.AD)\n",
    "#             filter_condition_ab = ( (mt.GT.is_hom_ref() & (ab <= 0.1)) |\n",
    "#                                     (mt.GT.is_het() & (ab >= 0.25) & (ab <= 0.75)) |\n",
    "#                                     (mt.GT.is_hom_var() & (ab >= 0.9)))\n",
    "\n",
    "#             fraction_filtered = mt.aggregate_entries(hl.agg.fraction(~filter_condition_ab))\n",
    "#             print(f'Filtering {fraction_filtered * 100:.2f}% entries out of downstream analysis.')\n",
    "#             mt1 = mt.filter_entries(filter_condition_ab)\n",
    "# #             mt1.GT.show(10, n_cols=10)\n",
    "\n",
    "#             filter_condition_ab = ( (mt1.GQ > 20) & (mt1.DP < 200) & (mt1.DP > 10) )\n",
    "# #             mt1.DP.show(10, n_cols=10)\n",
    "#             fraction_filtered = mt1.aggregate_entries(hl.agg.fraction(~filter_condition_ab))\n",
    "#             print(f'Filtering {fraction_filtered * 100:.2f}% entries out of downstream analysis.')\n",
    "\n",
    "#             mt3 = mt1.filter_entries(filter_condition_ab)\n",
    "# #             mt3.DP.show(10, n_cols=10)\n",
    "#             data2 = mt3\n",
    "#             print(data2.count())       \n",
    "\n",
    "#             print('Annotate Heterozygous Alleles')\n",
    "            ds_result1 = data2.annotate_rows(hets = hl.agg.filter(data2.GT.is_het(),hl.agg.collect(data2.s)))\n",
    "            ds_result1.count()\n",
    "#             print('Annotate N Hets')\n",
    "            ds_result4 = ds_result1.annotate_rows(n_het = hl.agg.count_where(ds_result1.GT.is_het()))\n",
    "            ds_result4.count()\n",
    "#             print('Annotate Homozygous Alleles')\n",
    "            ds_result3 = ds_result4.annotate_rows(homs = hl.agg.filter(ds_result4.GT.is_hom_var(),hl.agg.collect(ds_result4.s)))\n",
    "            ds_result3.count()\n",
    "#             print('Annotating N Homs')\n",
    "            ds_result5 = ds_result3.annotate_rows(n_hom = hl.agg.count_where(ds_result3.GT.is_hom_var()))\n",
    "            ds_result5.count()\n",
    "#             ds_result5.vep.transcript_consequences.gene_symbol.show()\n",
    "#             ds_result5 = hl.variant_qc(ds_result5)\n",
    "            for maf in [0.05]:\n",
    "                ds_result5 = ds_result5.filter_rows(ds_result5.variant_qc.AF[1] < maf)\n",
    "                print()\n",
    "                print('MAF <', maf, ds_result5.count())\n",
    "\n",
    "#                 db = hl.experimental.DB()\n",
    "#                 ds_result5 = db.annotate_rows_db(ds_result5, 'clinvar_variant_summary','dbNSFP_genes','dbNSFP_variants','gnomad_exome_sites')\n",
    "#                 ds_result5.rows().show()\n",
    "\n",
    "#                 print('Selecting Data To Query')\n",
    "                ds_result6 = ds_result5.rows()\n",
    "                ds_result6 = ds_result6.key_by()\n",
    "\n",
    "                print('Converting To Pandas')\n",
    "                finData_All = ds_result6.select(\n",
    "                    locus=ds_result6.locus,\n",
    "                    alleles=ds_result6.alleles,\n",
    "                    gene=ds_result6.vep.transcript_consequences.gene_symbol,\n",
    "                    lof=ds_result6.vep.transcript_consequences.lof,\n",
    "                    consequence=ds_result6.vep.most_severe_consequence,\n",
    "                    AF=ds_result6.variant_qc.AF[1],\n",
    "                    hets=ds_result6.hets,\n",
    "                    n_hets=ds_result6.n_het,\n",
    "                    homs=ds_result6.homs,\n",
    "                    n_homs=ds_result6.n_hom,\n",
    "                    amino_acids=ds_result6.vep.transcript_consequences.amino_acids,\n",
    "                    protein_end=ds_result6.vep.transcript_consequences.protein_end, \n",
    "                    protein_start=ds_result6.vep.transcript_consequences.protein_start, \n",
    "                    protein_id=ds_result6.vep.transcript_consequences.protein_id, \n",
    "    #                 exon=ds_result6.vep.transcript_consequences[0].exon,    \n",
    "    #                 polyphen_prediction=ds_result6.vep.transcript_consequences[0].polyphen_prediction,\n",
    "    #                 polyphen_score=ds_result6.vep.transcript_consequences[0].polyphen_score,\n",
    "    #                 sift_prediction=ds_result6.vep.transcript_consequences[0].sift_prediction,\n",
    "    #                 sift_score=ds_result6.vep.transcript_consequences[0].sift_score,\n",
    "    #                 clinvar_signif=ds_result6.dbNSFP_variants.clinvar_clnsig,\n",
    "    #                 clinvar_trait=ds_result6.dbNSFP_variants.clinvar_trait,\n",
    "    #                 clinvar_MedGen_id=ds_result6.dbNSFP_variants.clinvar_MedGen_id,\n",
    "    #                 REVEL_score=ds_result6.dbNSFP_variants.REVEL_score,\n",
    "    #                 REVEL_rankscore=ds_result6.dbNSFP_variants.REVEL_rankscore,\n",
    "    #                 MutationTaster_pred=ds_result6.dbNSFP_variants.MutationTaster_pred,\n",
    "    #                 LRT_pred=ds_result6.dbNSFP_variants.LRT_pred,\n",
    "    #                 Polyphen2_HVAR_pred=ds_result6.dbNSFP_variants.Polyphen2_HVAR_pred,\n",
    "    #                 Polyphen2_HDIV_pred=ds_result6.dbNSFP_variants.Polyphen2_HDIV_pred,\n",
    "    #                 CADD_phred=ds_result6.dbNSFP_variants.CADD_phred,\n",
    "    #                 DANN_score=ds_result6.dbNSFP_variants.DANN_score\n",
    "                ).to_pandas()       \n",
    "\n",
    "                finData_All.to_excel('8K_Chr'+str(chro)+'.xlsx')\n",
    "                !gsutil -m cp *.xlsx gs://pgr-wgs-8k/Output/\n",
    "                !rm *.xlsx\n",
    "                print(\"Done\")\n",
    " \n",
    "    except Exception as e: print(e)  #print(\"Error in Chr\", str(chro)) "
   ]
  },
  {
   "cell_type": "code",
   "execution_count": null,
   "metadata": {},
   "outputs": [],
   "source": [
    "!gsutil ls gs://pgr-wgs-8k/Output/"
   ]
  },
  {
   "cell_type": "code",
   "execution_count": null,
   "metadata": {},
   "outputs": [],
   "source": [
    "finData_All.head()"
   ]
  },
  {
   "cell_type": "code",
   "execution_count": null,
   "metadata": {},
   "outputs": [],
   "source": []
  },
  {
   "cell_type": "code",
   "execution_count": null,
   "metadata": {},
   "outputs": [],
   "source": []
  },
  {
   "cell_type": "code",
   "execution_count": null,
   "metadata": {},
   "outputs": [],
   "source": []
  },
  {
   "cell_type": "code",
   "execution_count": null,
   "metadata": {},
   "outputs": [],
   "source": []
  },
  {
   "cell_type": "code",
   "execution_count": null,
   "metadata": {},
   "outputs": [],
   "source": [
    "data2 = hl.read_matrix_table(\"gs://pgr-wgs-8k/VEP_VCF/pgr8k_chr21_VEP.mt\")"
   ]
  },
  {
   "cell_type": "code",
   "execution_count": null,
   "metadata": {},
   "outputs": [],
   "source": [
    "print(data2.count())"
   ]
  },
  {
   "cell_type": "code",
   "execution_count": null,
   "metadata": {},
   "outputs": [],
   "source": []
  },
  {
   "cell_type": "code",
   "execution_count": null,
   "metadata": {},
   "outputs": [],
   "source": []
  },
  {
   "cell_type": "code",
   "execution_count": null,
   "metadata": {},
   "outputs": [],
   "source": []
  },
  {
   "cell_type": "code",
   "execution_count": null,
   "metadata": {},
   "outputs": [],
   "source": []
  },
  {
   "cell_type": "code",
   "execution_count": null,
   "metadata": {},
   "outputs": [],
   "source": []
  },
  {
   "cell_type": "code",
   "execution_count": null,
   "metadata": {
    "scrolled": true
   },
   "outputs": [],
   "source": [
    "for chrNum in [21]: #[1,2,3,4,5,6,7,8,9,10,11,12,13,14,15,16,17,18,19,20,21,22]:\n",
    "\n",
    "#     pgr-wes-30k-mt/Vep_MT/Promis30_chr1_VEP.mt\n",
    "    \n",
    "    print(\"Reading Mt Chr\", chrNum)\n",
    "    data = hl.read_matrix_table(\"gs://pgr-wgs-8k/VEP_VCF/pgr8k_chr21_VEP.mt\")  \n",
    "    data.rows().show()\n",
    "    print(\"Initial Count\", data.count())\n",
    "    \n",
    "    #1- Splt Multi Allelic Variants\n",
    "#     data1 = hl.split_multi_hts(data)\n",
    "#     print('DONE MAV')\n",
    "#     data1.rows().show()\n",
    "#     print(\"After MAV Count\")\n",
    "#     print(data1.count())\n",
    "\n",
    "#     db = hl.experimental.DB()\n",
    "#     data1 = db.annotate_rows_db(data1, 'dbNSFP_genes','dbNSFP_variants','gnomad_exome_sites')\n",
    "    \n",
    "    #2- Remove variants in LCR, segDup, Decoy regions\n",
    "    # Import gnomad LCR\n",
    "    print('Reading LCR List')\n",
    "    interval_table_lcr = hl.import_bed('gs://test1haseeb/LCR1.bed',\n",
    "                                               reference_genome='GRCh37')\n",
    "    print('Filtering LCR')\n",
    "    data1 = data1.filter_rows(hl.is_defined(interval_table_lcr[data1.locus]) ,keep=False)\n",
    "    print('Remove Variants in Lcr', data1.count())\n",
    "\n",
    "    # Import gnomad SegDup\n",
    "    print()\n",
    "    print('Reading SegDup List')\n",
    "    interval_table_segdup = hl.import_bed('gs://test1haseeb/intervals_segdup_hg19_self_chain_split_both.bed',\n",
    "                                          reference_genome='GRCh37')\n",
    "    print('Filtering SegDup')\n",
    "    data2 = data1.filter_rows(hl.is_defined(interval_table_segdup[data1.locus]) ,keep=False)\n",
    "    print('Remove Variants in SegDup', data2.count())\n",
    "\n",
    "    # Import gnomad Decoy\n",
    "    print()\n",
    "    print('Reading Decoy List')\n",
    "    interval_table_decoy = hl.import_bed('gs://test1haseeb/intervals_decoy_mm-2-merged.GRCh37_compliant.bed',\n",
    "                                          reference_genome='GRCh37')\n",
    "    print('Filtering Decoy')\n",
    "    data3 = data2.filter_rows(hl.is_defined(interval_table_decoy[data2.locus]) ,keep=False)\n",
    "    print('Remove Variants in Decoy', data3.count())\n",
    "    data3.rows().show()\n",
    "    \n",
    "    \n",
    "    data5 = hl.variant_qc(data3)\n",
    "    data5.rows().show()\n",
    "    \n",
    "    #3- Genotype QC by Allele-Depth\n",
    "    mt=data5\n",
    "    ab = mt.AD[1] / hl.sum(mt.AD)\n",
    "    filter_condition_ab = ( (mt.GT.is_hom_ref() & (ab <= 0.1)) |\n",
    "                            (mt.GT.is_het() & (ab >= 0.25) & (ab <= 0.75)) |\n",
    "                            (mt.GT.is_hom_var() & (ab >= 0.9)))\n",
    "    print(\"3\")\n",
    "    fraction_filtered = mt.aggregate_entries(hl.agg.fraction(~filter_condition_ab))\n",
    "    print(f'Filtering {fraction_filtered * 100:.2f}% entries out of downstream analysis.')\n",
    "    mt1 = mt.filter_entries(filter_condition_ab)\n",
    "#     mt1.GT.show(1, n_cols=10)\n",
    "    \n",
    "    #4- Filter variants with (GQ < 20), (DP < 10) or (DP > 200)\n",
    "    filter_condition_ab = ( (mt1.GQ > 20) & (mt1.DP < 200) & (mt1.DP > 10) )\n",
    "\n",
    "    fraction_filtered = mt1.aggregate_entries(hl.agg.fraction(~filter_condition_ab))\n",
    "    print('4')\n",
    "    print(f'Filtering {fraction_filtered * 100:.2f}% entries out of downstream analysis.')\n",
    "    mt3 = mt1.filter_entries(filter_condition_ab)\n",
    "#     mt3.GQ.show(5, n_cols=50)\n",
    "    \n",
    "    #5- Remove sites with missing more than 10% after above filtering.\n",
    "    data1 = mt3.filter_rows(mt3.variant_qc.call_rate > 0.90)\n",
    "    print('5', data1.count())\n",
    "    \n",
    "    #6- Remove sites with population specific HWE P value < 1e-8\n",
    "    mt5 = data1.filter_rows(data1.variant_qc.p_value_hwe > 1e-8)\n",
    "    print('6',mt5.count())\n",
    "    mt5.rows().show()\n",
    "\n",
    "    #7- Remove INDELS where QD <= 3\n",
    "    filter_condition_ab = ( (hl.is_indel(mt5.alleles[0], mt5.alleles[1]) ) & (mt5.info.QD <= 3) )\n",
    "    data1 = mt5.filter_rows(filter_condition_ab, keep=False)\n",
    "    print('7',data1.count())\n",
    "    data1.rows().show()\n",
    "\n",
    "    #8- Remove SNPs where QD <= 2\n",
    "    filter_condition_ab = ( (data1.info.QD <= 2) )\n",
    "    data2 = data1.filter_rows(filter_condition_ab, keep=False)\n",
    "    print('8', data2.count())\n",
    "    data2.rows().show()   \n",
    "    \n",
    "    #9- Remove variants with InbreedingCoeff <= -0.3\n",
    "    filter_condition_ab = ( (data2.info.InbreedingCoeff <= -0.3) )\n",
    "    data3 = data2.filter_rows(filter_condition_ab, keep=False)\n",
    "    print('9', data3.count())\n",
    "    data3.rows().show()\n",
    "    \n",
    "    #10- Remove variants where VQSR does not PASS unless singleton in which case retain variants with VQSRTrancheSNP99.60to99.80\n",
    "    pass_ds = data3.filter_rows( (hl.len(data3.filters) == 0) | (data3.filters.contains('VQSRTrancheSNP99.60to99.80')) )\n",
    "    print('10', pass_ds.count())\n",
    "#     pass_ds1 = pass_ds.filter_rows( (pass_ds.filters.contains('VQSRTrancheSNP99.60to99.80')) &\n",
    "#                                 (pass_ds.gnomad_exome_sites.singleton != True),\n",
    "#                                  keep=False)\n",
    "\n",
    "    #11- Remove MAF\n",
    "    pass_ds = pass_ds.filter_rows(pass_ds.variant_qc.AF[1] < 0.05)\n",
    "\n",
    "\n",
    "    \n",
    "    pass_ds.write('gs://pgr-wgs-2k/QC/Chr' + str(chrNum) + '_2k_QC.mt', overwrite=True)\n",
    "    print(\"Final Count\")\n",
    "    print(pass_ds.count())"
   ]
  }
 ],
 "metadata": {
  "kernelspec": {
   "display_name": "Hail",
   "language": "python",
   "name": "hail"
  },
  "language_info": {
   "codemirror_mode": {
    "name": "ipython",
    "version": 3
   },
   "file_extension": ".py",
   "mimetype": "text/x-python",
   "name": "python",
   "nbconvert_exporter": "python",
   "pygments_lexer": "ipython3",
   "version": "3.6.10"
  }
 },
 "nbformat": 4,
 "nbformat_minor": 2
}