{
 "cells": [
  {
   "cell_type": "code",
   "execution_count": 1,
   "metadata": {},
   "outputs": [
    {
     "name": "stderr",
     "output_type": "stream",
     "text": [
      "Running on Apache Spark version 2.4.5\n",
      "SparkUI available at http://hail-m.us-central1-f.c.cncd-cncd.internal:4041\n",
      "Welcome to\n",
      "     __  __     <>__\n",
      "    / /_/ /__  __/ /\n",
      "   / __  / _ `/ / /\n",
      "  /_/ /_/\\_,_/_/_/   version 0.2.61-3c86d3ba497a\n",
      "LOGGING: writing to /hail-20210211-1045-0.2.61-3c86d3ba497a.log\n"
     ]
    }
   ],
   "source": [
    "import hail as hl\n",
    "hl.init()"
   ]
  },
  {
   "cell_type": "code",
   "execution_count": null,
   "metadata": {
    "scrolled": true
   },
   "outputs": [
    {
     "name": "stderr",
     "output_type": "stream",
     "text": [
      "2021-02-11 10:46:26 Hail: INFO: Coerced sorted dataset\n",
      "2021-02-11 10:46:26 Hail: INFO: reading 1 of 114 data partitions\n"
     ]
    },
    {
     "data": {
      "text/html": [
       "<table><thead><tr><td style=\"white-space: nowrap; max-width: 500px; overflow: hidden; text-overflow: ellipsis; \" colspan=\"1\"><div style=\"text-align: left;\"></div></td><td style=\"white-space: nowrap; max-width: 500px; overflow: hidden; text-overflow: ellipsis; \" colspan=\"1\"><div style=\"text-align: left;\"></div></td><td style=\"white-space: nowrap; max-width: 500px; overflow: hidden; text-overflow: ellipsis; \" colspan=\"1\"><div style=\"text-align: left;\"></div></td><td style=\"white-space: nowrap; max-width: 500px; overflow: hidden; text-overflow: ellipsis; \" colspan=\"1\"><div style=\"text-align: left;\"></div></td><td style=\"white-space: nowrap; max-width: 500px; overflow: hidden; text-overflow: ellipsis; \" colspan=\"1\"><div style=\"text-align: left;\"></div></td><td style=\"white-space: nowrap; max-width: 500px; overflow: hidden; text-overflow: ellipsis; \" colspan=\"2\"><div style=\"text-align: left;\"></div></td></tr><tr><td style=\"white-space: nowrap; max-width: 500px; overflow: hidden; text-overflow: ellipsis; \" colspan=\"1\"><div style=\"text-align: left;\"></div></td><td style=\"white-space: nowrap; max-width: 500px; overflow: hidden; text-overflow: ellipsis; \" colspan=\"1\"><div style=\"text-align: left;\"></div></td><td style=\"white-space: nowrap; max-width: 500px; overflow: hidden; text-overflow: ellipsis; \" colspan=\"1\"><div style=\"text-align: left;\"></div></td><td style=\"white-space: nowrap; max-width: 500px; overflow: hidden; text-overflow: ellipsis; \" colspan=\"1\"><div style=\"text-align: left;\"></div></td><td style=\"white-space: nowrap; max-width: 500px; overflow: hidden; text-overflow: ellipsis; \" colspan=\"1\"><div style=\"text-align: left;\"></div></td><td style=\"white-space: nowrap; max-width: 500px; overflow: hidden; text-overflow: ellipsis; \" colspan=\"2\"><div style=\"text-align: left;border-bottom: solid 2px #000; padding-bottom: 5px\">info</div></td></tr><tr><td style=\"white-space: nowrap; max-width: 500px; overflow: hidden; text-overflow: ellipsis; \" colspan=\"1\"><div style=\"text-align: left;border-bottom: solid 2px #000; padding-bottom: 5px\">locus</div></td><td style=\"white-space: nowrap; max-width: 500px; overflow: hidden; text-overflow: ellipsis; \" colspan=\"1\"><div style=\"text-align: left;border-bottom: solid 2px #000; padding-bottom: 5px\">alleles</div></td><td style=\"white-space: nowrap; max-width: 500px; overflow: hidden; text-overflow: ellipsis; \" colspan=\"1\"><div style=\"text-align: left;border-bottom: solid 2px #000; padding-bottom: 5px\">rsid</div></td><td style=\"white-space: nowrap; max-width: 500px; overflow: hidden; text-overflow: ellipsis; \" colspan=\"1\"><div style=\"text-align: left;border-bottom: solid 2px #000; padding-bottom: 5px\">qual</div></td><td style=\"white-space: nowrap; max-width: 500px; overflow: hidden; text-overflow: ellipsis; \" colspan=\"1\"><div style=\"text-align: left;border-bottom: solid 2px #000; padding-bottom: 5px\">filters</div></td><td style=\"white-space: nowrap; max-width: 500px; overflow: hidden; text-overflow: ellipsis; \" colspan=\"1\"><div style=\"text-align: left;border-bottom: solid 2px #000; padding-bottom: 5px\">AF</div></td><td style=\"white-space: nowrap; max-width: 500px; overflow: hidden; text-overflow: ellipsis; \" colspan=\"1\"><div style=\"text-align: left;border-bottom: solid 2px #000; padding-bottom: 5px\">AQ</div></td></tr><tr><td style=\"white-space: nowrap; max-width: 500px; overflow: hidden; text-overflow: ellipsis; text-align: left;\">locus&lt;GRCh38&gt;</td><td style=\"white-space: nowrap; max-width: 500px; overflow: hidden; text-overflow: ellipsis; text-align: left;\">array&lt;str&gt;</td><td style=\"white-space: nowrap; max-width: 500px; overflow: hidden; text-overflow: ellipsis; text-align: left;\">str</td><td style=\"white-space: nowrap; max-width: 500px; overflow: hidden; text-overflow: ellipsis; text-align: left;\">float64</td><td style=\"white-space: nowrap; max-width: 500px; overflow: hidden; text-overflow: ellipsis; text-align: left;\">set&lt;str&gt;</td><td style=\"white-space: nowrap; max-width: 500px; overflow: hidden; text-overflow: ellipsis; text-align: left;\">array&lt;float64&gt;</td><td style=\"white-space: nowrap; max-width: 500px; overflow: hidden; text-overflow: ellipsis; text-align: left;\">array&lt;int32&gt;</td></tr>\n",
       "</thead><tbody></tbody></table>"
      ],
      "text/plain": [
       "+---------------+------------+------+---------+----------+----------------+\n",
       "| locus         | alleles    | rsid |    qual | filters  | info.AF        |\n",
       "+---------------+------------+------+---------+----------+----------------+\n",
       "| locus<GRCh38> | array<str> | str  | float64 | set<str> | array<float64> |\n",
       "+---------------+------------+------+---------+----------+----------------+\n",
       "+---------------+------------+------+---------+----------+----------------+\n",
       "\n",
       "+--------------+\n",
       "| info.AQ      |\n",
       "+--------------+\n",
       "| array<int32> |\n",
       "+--------------+\n",
       "+--------------+"
      ]
     },
     "metadata": {},
     "output_type": "display_data"
    },
    {
     "name": "stderr",
     "output_type": "stream",
     "text": [
      "2021-02-11 10:47:02 Hail: INFO: Coerced sorted dataset\n",
      "2021-02-11 10:47:02 Hail: INFO: reading 1 of 114 data partitions\n",
      "2021-02-11 10:47:45 Hail: INFO: Coerced sorted dataset\n",
      "2021-02-11 10:47:45 Hail: INFO: reading 1 of 202 data partitions\n"
     ]
    },
    {
     "data": {
      "text/html": [
       "<table><thead><tr><td style=\"white-space: nowrap; max-width: 500px; overflow: hidden; text-overflow: ellipsis; \" colspan=\"1\"><div style=\"text-align: left;\"></div></td><td style=\"white-space: nowrap; max-width: 500px; overflow: hidden; text-overflow: ellipsis; \" colspan=\"1\"><div style=\"text-align: left;\"></div></td><td style=\"white-space: nowrap; max-width: 500px; overflow: hidden; text-overflow: ellipsis; \" colspan=\"1\"><div style=\"text-align: left;\"></div></td><td style=\"white-space: nowrap; max-width: 500px; overflow: hidden; text-overflow: ellipsis; \" colspan=\"1\"><div style=\"text-align: left;\"></div></td><td style=\"white-space: nowrap; max-width: 500px; overflow: hidden; text-overflow: ellipsis; \" colspan=\"1\"><div style=\"text-align: left;\"></div></td><td style=\"white-space: nowrap; max-width: 500px; overflow: hidden; text-overflow: ellipsis; \" colspan=\"19\"><div style=\"text-align: left;\"></div></td></tr><tr><td style=\"white-space: nowrap; max-width: 500px; overflow: hidden; text-overflow: ellipsis; \" colspan=\"1\"><div style=\"text-align: left;\"></div></td><td style=\"white-space: nowrap; max-width: 500px; overflow: hidden; text-overflow: ellipsis; \" colspan=\"1\"><div style=\"text-align: left;\"></div></td><td style=\"white-space: nowrap; max-width: 500px; overflow: hidden; text-overflow: ellipsis; \" colspan=\"1\"><div style=\"text-align: left;\"></div></td><td style=\"white-space: nowrap; max-width: 500px; overflow: hidden; text-overflow: ellipsis; \" colspan=\"1\"><div style=\"text-align: left;\"></div></td><td style=\"white-space: nowrap; max-width: 500px; overflow: hidden; text-overflow: ellipsis; \" colspan=\"1\"><div style=\"text-align: left;\"></div></td><td style=\"white-space: nowrap; max-width: 500px; overflow: hidden; text-overflow: ellipsis; \" colspan=\"19\"><div style=\"text-align: left;border-bottom: solid 2px #000; padding-bottom: 5px\">info</div></td></tr><tr><td style=\"white-space: nowrap; max-width: 500px; overflow: hidden; text-overflow: ellipsis; \" colspan=\"1\"><div style=\"text-align: left;border-bottom: solid 2px #000; padding-bottom: 5px\">locus</div></td><td style=\"white-space: nowrap; max-width: 500px; overflow: hidden; text-overflow: ellipsis; \" colspan=\"1\"><div style=\"text-align: left;border-bottom: solid 2px #000; padding-bottom: 5px\">alleles</div></td><td style=\"white-space: nowrap; max-width: 500px; overflow: hidden; text-overflow: ellipsis; \" colspan=\"1\"><div style=\"text-align: left;border-bottom: solid 2px #000; padding-bottom: 5px\">rsid</div></td><td style=\"white-space: nowrap; max-width: 500px; overflow: hidden; text-overflow: ellipsis; \" colspan=\"1\"><div style=\"text-align: left;border-bottom: solid 2px #000; padding-bottom: 5px\">qual</div></td><td style=\"white-space: nowrap; max-width: 500px; overflow: hidden; text-overflow: ellipsis; \" colspan=\"1\"><div style=\"text-align: left;border-bottom: solid 2px #000; padding-bottom: 5px\">filters</div></td><td style=\"white-space: nowrap; max-width: 500px; overflow: hidden; text-overflow: ellipsis; \" colspan=\"1\"><div style=\"text-align: left;border-bottom: solid 2px #000; padding-bottom: 5px\">AC</div></td><td style=\"white-space: nowrap; max-width: 500px; overflow: hidden; text-overflow: ellipsis; \" colspan=\"1\"><div style=\"text-align: left;border-bottom: solid 2px #000; padding-bottom: 5px\">aaf</div></td><td style=\"white-space: nowrap; max-width: 500px; overflow: hidden; text-overflow: ellipsis; \" colspan=\"1\"><div style=\"text-align: left;border-bottom: solid 2px #000; padding-bottom: 5px\">callRate</div></td><td style=\"white-space: nowrap; max-width: 500px; overflow: hidden; text-overflow: ellipsis; \" colspan=\"1\"><div style=\"text-align: left;border-bottom: solid 2px #000; padding-bottom: 5px\">hetRA</div></td><td style=\"white-space: nowrap; max-width: 500px; overflow: hidden; text-overflow: ellipsis; \" colspan=\"1\"><div style=\"text-align: left;border-bottom: solid 2px #000; padding-bottom: 5px\">hg19_uid</div></td><td style=\"white-space: nowrap; max-width: 500px; overflow: hidden; text-overflow: ellipsis; \" colspan=\"1\"><div style=\"text-align: left;border-bottom: solid 2px #000; padding-bottom: 5px\">homAA</div></td><td style=\"white-space: nowrap; max-width: 500px; overflow: hidden; text-overflow: ellipsis; \" colspan=\"1\"><div style=\"text-align: left;border-bottom: solid 2px #000; padding-bottom: 5px\">homRR</div></td><td style=\"white-space: nowrap; max-width: 500px; overflow: hidden; text-overflow: ellipsis; \" colspan=\"1\"><div style=\"text-align: left;border-bottom: solid 2px #000; padding-bottom: 5px\">maxDepth</div></td><td style=\"white-space: nowrap; max-width: 500px; overflow: hidden; text-overflow: ellipsis; \" colspan=\"1\"><div style=\"text-align: left;border-bottom: solid 2px #000; padding-bottom: 5px\">maxHetAB</div></td><td style=\"white-space: nowrap; max-width: 500px; overflow: hidden; text-overflow: ellipsis; \" colspan=\"1\"><div style=\"text-align: left;border-bottom: solid 2px #000; padding-bottom: 5px\">maxHomAB</div></td><td style=\"white-space: nowrap; max-width: 500px; overflow: hidden; text-overflow: ellipsis; \" colspan=\"1\"><div style=\"text-align: left;border-bottom: solid 2px #000; padding-bottom: 5px\">medDepth</div></td><td style=\"white-space: nowrap; max-width: 500px; overflow: hidden; text-overflow: ellipsis; \" colspan=\"1\"><div style=\"text-align: left;border-bottom: solid 2px #000; padding-bottom: 5px\">medHetAB</div></td><td style=\"white-space: nowrap; max-width: 500px; overflow: hidden; text-overflow: ellipsis; \" colspan=\"1\"><div style=\"text-align: left;border-bottom: solid 2px #000; padding-bottom: 5px\">medHomAB</div></td><td style=\"white-space: nowrap; max-width: 500px; overflow: hidden; text-overflow: ellipsis; \" colspan=\"1\"><div style=\"text-align: left;border-bottom: solid 2px #000; padding-bottom: 5px\">minDpeth</div></td><td style=\"white-space: nowrap; max-width: 500px; overflow: hidden; text-overflow: ellipsis; \" colspan=\"1\"><div style=\"text-align: left;border-bottom: solid 2px #000; padding-bottom: 5px\">minHetAB</div></td><td style=\"white-space: nowrap; max-width: 500px; overflow: hidden; text-overflow: ellipsis; \" colspan=\"1\"><div style=\"text-align: left;border-bottom: solid 2px #000; padding-bottom: 5px\">minHomAB</div></td><td style=\"white-space: nowrap; max-width: 500px; overflow: hidden; text-overflow: ellipsis; \" colspan=\"1\"><div style=\"text-align: left;border-bottom: solid 2px #000; padding-bottom: 5px\">noCall</div></td><td style=\"white-space: nowrap; max-width: 500px; overflow: hidden; text-overflow: ellipsis; \" colspan=\"1\"><div style=\"text-align: left;border-bottom: solid 2px #000; padding-bottom: 5px\">oldMultiAllelic</div></td><td style=\"white-space: nowrap; max-width: 500px; overflow: hidden; text-overflow: ellipsis; \" colspan=\"1\"><div style=\"text-align: left;border-bottom: solid 2px #000; padding-bottom: 5px\">pvalHwe</div></td></tr><tr><td style=\"white-space: nowrap; max-width: 500px; overflow: hidden; text-overflow: ellipsis; text-align: left;\">locus&lt;GRCh38&gt;</td><td style=\"white-space: nowrap; max-width: 500px; overflow: hidden; text-overflow: ellipsis; text-align: left;\">array&lt;str&gt;</td><td style=\"white-space: nowrap; max-width: 500px; overflow: hidden; text-overflow: ellipsis; text-align: left;\">str</td><td style=\"white-space: nowrap; max-width: 500px; overflow: hidden; text-overflow: ellipsis; text-align: left;\">float64</td><td style=\"white-space: nowrap; max-width: 500px; overflow: hidden; text-overflow: ellipsis; text-align: left;\">set&lt;str&gt;</td><td style=\"white-space: nowrap; max-width: 500px; overflow: hidden; text-overflow: ellipsis; text-align: left;\">int32</td><td style=\"white-space: nowrap; max-width: 500px; overflow: hidden; text-overflow: ellipsis; text-align: left;\">float64</td><td style=\"white-space: nowrap; max-width: 500px; overflow: hidden; text-overflow: ellipsis; text-align: left;\">float64</td><td style=\"white-space: nowrap; max-width: 500px; overflow: hidden; text-overflow: ellipsis; text-align: left;\">int32</td><td style=\"white-space: nowrap; max-width: 500px; overflow: hidden; text-overflow: ellipsis; text-align: left;\">str</td><td style=\"white-space: nowrap; max-width: 500px; overflow: hidden; text-overflow: ellipsis; text-align: left;\">int32</td><td style=\"white-space: nowrap; max-width: 500px; overflow: hidden; text-overflow: ellipsis; text-align: left;\">int32</td><td style=\"white-space: nowrap; max-width: 500px; overflow: hidden; text-overflow: ellipsis; text-align: left;\">int32</td><td style=\"white-space: nowrap; max-width: 500px; overflow: hidden; text-overflow: ellipsis; text-align: left;\">float64</td><td style=\"white-space: nowrap; max-width: 500px; overflow: hidden; text-overflow: ellipsis; text-align: left;\">float64</td><td style=\"white-space: nowrap; max-width: 500px; overflow: hidden; text-overflow: ellipsis; text-align: left;\">int32</td><td style=\"white-space: nowrap; max-width: 500px; overflow: hidden; text-overflow: ellipsis; text-align: left;\">float64</td><td style=\"white-space: nowrap; max-width: 500px; overflow: hidden; text-overflow: ellipsis; text-align: left;\">float64</td><td style=\"white-space: nowrap; max-width: 500px; overflow: hidden; text-overflow: ellipsis; text-align: left;\">int32</td><td style=\"white-space: nowrap; max-width: 500px; overflow: hidden; text-overflow: ellipsis; text-align: left;\">float64</td><td style=\"white-space: nowrap; max-width: 500px; overflow: hidden; text-overflow: ellipsis; text-align: left;\">float64</td><td style=\"white-space: nowrap; max-width: 500px; overflow: hidden; text-overflow: ellipsis; text-align: left;\">int32</td><td style=\"white-space: nowrap; max-width: 500px; overflow: hidden; text-overflow: ellipsis; text-align: left;\">str</td><td style=\"white-space: nowrap; max-width: 500px; overflow: hidden; text-overflow: ellipsis; text-align: left;\">float64</td></tr>\n",
       "</thead><tbody></tbody></table>"
      ],
      "text/plain": [
       "+---------------+------------+------+---------+----------+---------+----------+\n",
       "| locus         | alleles    | rsid |    qual | filters  | info.AC | info.aaf |\n",
       "+---------------+------------+------+---------+----------+---------+----------+\n",
       "| locus<GRCh38> | array<str> | str  | float64 | set<str> |   int32 |  float64 |\n",
       "+---------------+------------+------+---------+----------+---------+----------+\n",
       "+---------------+------------+------+---------+----------+---------+----------+\n",
       "\n",
       "+---------------+------------+---------------+------------+------------+\n",
       "| info.callRate | info.hetRA | info.hg19_uid | info.homAA | info.homRR |\n",
       "+---------------+------------+---------------+------------+------------+\n",
       "|       float64 |      int32 | str           |      int32 |      int32 |\n",
       "+---------------+------------+---------------+------------+------------+\n",
       "+---------------+------------+---------------+------------+------------+\n",
       "\n",
       "+---------------+---------------+---------------+---------------+\n",
       "| info.maxDepth | info.maxHetAB | info.maxHomAB | info.medDepth |\n",
       "+---------------+---------------+---------------+---------------+\n",
       "|         int32 |       float64 |       float64 |         int32 |\n",
       "+---------------+---------------+---------------+---------------+\n",
       "+---------------+---------------+---------------+---------------+\n",
       "\n",
       "+---------------+---------------+---------------+---------------+\n",
       "| info.medHetAB | info.medHomAB | info.minDpeth | info.minHetAB |\n",
       "+---------------+---------------+---------------+---------------+\n",
       "|       float64 |       float64 |         int32 |       float64 |\n",
       "+---------------+---------------+---------------+---------------+\n",
       "+---------------+---------------+---------------+---------------+\n",
       "\n",
       "+---------------+-------------+----------------------+--------------+\n",
       "| info.minHomAB | info.noCall | info.oldMultiAllelic | info.pvalHwe |\n",
       "+---------------+-------------+----------------------+--------------+\n",
       "|       float64 |       int32 | str                  |      float64 |\n",
       "+---------------+-------------+----------------------+--------------+\n",
       "+---------------+-------------+----------------------+--------------+"
      ]
     },
     "metadata": {},
     "output_type": "display_data"
    },
    {
     "name": "stderr",
     "output_type": "stream",
     "text": [
      "2021-02-11 10:48:26 Hail: INFO: Coerced sorted dataset\n",
      "2021-02-11 10:48:26 Hail: INFO: reading 1 of 202 data partitions\n",
      "2021-02-11 10:52:37 Hail: INFO: Coerced sorted dataset\n",
      "2021-02-11 10:52:37 Hail: INFO: reading 1 of 306 data partitions\n"
     ]
    },
    {
     "data": {
      "text/html": [
       "<table><thead><tr><td style=\"white-space: nowrap; max-width: 500px; overflow: hidden; text-overflow: ellipsis; \" colspan=\"1\"><div style=\"text-align: left;\"></div></td><td style=\"white-space: nowrap; max-width: 500px; overflow: hidden; text-overflow: ellipsis; \" colspan=\"1\"><div style=\"text-align: left;\"></div></td><td style=\"white-space: nowrap; max-width: 500px; overflow: hidden; text-overflow: ellipsis; \" colspan=\"1\"><div style=\"text-align: left;\"></div></td><td style=\"white-space: nowrap; max-width: 500px; overflow: hidden; text-overflow: ellipsis; \" colspan=\"1\"><div style=\"text-align: left;\"></div></td><td style=\"white-space: nowrap; max-width: 500px; overflow: hidden; text-overflow: ellipsis; \" colspan=\"1\"><div style=\"text-align: left;\"></div></td><td style=\"white-space: nowrap; max-width: 500px; overflow: hidden; text-overflow: ellipsis; \" colspan=\"38\"><div style=\"text-align: left;\"></div></td></tr><tr><td style=\"white-space: nowrap; max-width: 500px; overflow: hidden; text-overflow: ellipsis; \" colspan=\"1\"><div style=\"text-align: left;\"></div></td><td style=\"white-space: nowrap; max-width: 500px; overflow: hidden; text-overflow: ellipsis; \" colspan=\"1\"><div style=\"text-align: left;\"></div></td><td style=\"white-space: nowrap; max-width: 500px; overflow: hidden; text-overflow: ellipsis; \" colspan=\"1\"><div style=\"text-align: left;\"></div></td><td style=\"white-space: nowrap; max-width: 500px; overflow: hidden; text-overflow: ellipsis; \" colspan=\"1\"><div style=\"text-align: left;\"></div></td><td style=\"white-space: nowrap; max-width: 500px; overflow: hidden; text-overflow: ellipsis; \" colspan=\"1\"><div style=\"text-align: left;\"></div></td><td style=\"white-space: nowrap; max-width: 500px; overflow: hidden; text-overflow: ellipsis; \" colspan=\"38\"><div style=\"text-align: left;border-bottom: solid 2px #000; padding-bottom: 5px\">info</div></td></tr><tr><td style=\"white-space: nowrap; max-width: 500px; overflow: hidden; text-overflow: ellipsis; \" colspan=\"1\"><div style=\"text-align: left;border-bottom: solid 2px #000; padding-bottom: 5px\">locus</div></td><td style=\"white-space: nowrap; max-width: 500px; overflow: hidden; text-overflow: ellipsis; \" colspan=\"1\"><div style=\"text-align: left;border-bottom: solid 2px #000; padding-bottom: 5px\">alleles</div></td><td style=\"white-space: nowrap; max-width: 500px; overflow: hidden; text-overflow: ellipsis; \" colspan=\"1\"><div style=\"text-align: left;border-bottom: solid 2px #000; padding-bottom: 5px\">rsid</div></td><td style=\"white-space: nowrap; max-width: 500px; overflow: hidden; text-overflow: ellipsis; \" colspan=\"1\"><div style=\"text-align: left;border-bottom: solid 2px #000; padding-bottom: 5px\">qual</div></td><td style=\"white-space: nowrap; max-width: 500px; overflow: hidden; text-overflow: ellipsis; \" colspan=\"1\"><div style=\"text-align: left;border-bottom: solid 2px #000; padding-bottom: 5px\">filters</div></td><td style=\"white-space: nowrap; max-width: 500px; overflow: hidden; text-overflow: ellipsis; \" colspan=\"1\"><div style=\"text-align: left;border-bottom: solid 2px #000; padding-bottom: 5px\">AVGDP</div></td><td style=\"white-space: nowrap; max-width: 500px; overflow: hidden; text-overflow: ellipsis; \" colspan=\"1\"><div style=\"text-align: left;border-bottom: solid 2px #000; padding-bottom: 5px\">AC</div></td><td style=\"white-space: nowrap; max-width: 500px; overflow: hidden; text-overflow: ellipsis; \" colspan=\"1\"><div style=\"text-align: left;border-bottom: solid 2px #000; padding-bottom: 5px\">AN</div></td><td style=\"white-space: nowrap; max-width: 500px; overflow: hidden; text-overflow: ellipsis; \" colspan=\"1\"><div style=\"text-align: left;border-bottom: solid 2px #000; padding-bottom: 5px\">FIBC_P</div></td><td style=\"white-space: nowrap; max-width: 500px; overflow: hidden; text-overflow: ellipsis; \" colspan=\"1\"><div style=\"text-align: left;border-bottom: solid 2px #000; padding-bottom: 5px\">HWE_SLP_P</div></td><td style=\"white-space: nowrap; max-width: 500px; overflow: hidden; text-overflow: ellipsis; \" colspan=\"1\"><div style=\"text-align: left;border-bottom: solid 2px #000; padding-bottom: 5px\">FIBC_I</div></td><td style=\"white-space: nowrap; max-width: 500px; overflow: hidden; text-overflow: ellipsis; \" colspan=\"1\"><div style=\"text-align: left;border-bottom: solid 2px #000; padding-bottom: 5px\">HWE_SLP_I</div></td><td style=\"white-space: nowrap; max-width: 500px; overflow: hidden; text-overflow: ellipsis; \" colspan=\"1\"><div style=\"text-align: left;border-bottom: solid 2px #000; padding-bottom: 5px\">MAX_IF</div></td><td style=\"white-space: nowrap; max-width: 500px; overflow: hidden; text-overflow: ellipsis; \" colspan=\"1\"><div style=\"text-align: left;border-bottom: solid 2px #000; padding-bottom: 5px\">MIN_IF</div></td><td style=\"white-space: nowrap; max-width: 500px; overflow: hidden; text-overflow: ellipsis; \" colspan=\"1\"><div style=\"text-align: left;border-bottom: solid 2px #000; padding-bottom: 5px\">BETA_IF</div></td><td style=\"white-space: nowrap; max-width: 500px; overflow: hidden; text-overflow: ellipsis; \" colspan=\"1\"><div style=\"text-align: left;border-bottom: solid 2px #000; padding-bottom: 5px\">ABE</div></td><td style=\"white-space: nowrap; max-width: 500px; overflow: hidden; text-overflow: ellipsis; \" colspan=\"1\"><div style=\"text-align: left;border-bottom: solid 2px #000; padding-bottom: 5px\">ABZ</div></td><td style=\"white-space: nowrap; max-width: 500px; overflow: hidden; text-overflow: ellipsis; \" colspan=\"1\"><div style=\"text-align: left;border-bottom: solid 2px #000; padding-bottom: 5px\">NS_NREF</div></td><td style=\"white-space: nowrap; max-width: 500px; overflow: hidden; text-overflow: ellipsis; \" colspan=\"1\"><div style=\"text-align: left;border-bottom: solid 2px #000; padding-bottom: 5px\">BQZ</div></td><td style=\"white-space: nowrap; max-width: 500px; overflow: hidden; text-overflow: ellipsis; \" colspan=\"1\"><div style=\"text-align: left;border-bottom: solid 2px #000; padding-bottom: 5px\">MQZ</div></td><td style=\"white-space: nowrap; max-width: 500px; overflow: hidden; text-overflow: ellipsis; \" colspan=\"1\"><div style=\"text-align: left;border-bottom: solid 2px #000; padding-bottom: 5px\">CYZ</div></td><td style=\"white-space: nowrap; max-width: 500px; overflow: hidden; text-overflow: ellipsis; \" colspan=\"1\"><div style=\"text-align: left;border-bottom: solid 2px #000; padding-bottom: 5px\">STZ</div></td><td style=\"white-space: nowrap; max-width: 500px; overflow: hidden; text-overflow: ellipsis; \" colspan=\"1\"><div style=\"text-align: left;border-bottom: solid 2px #000; padding-bottom: 5px\">NMZ</div></td><td style=\"white-space: nowrap; max-width: 500px; overflow: hidden; text-overflow: ellipsis; \" colspan=\"1\"><div style=\"text-align: left;border-bottom: solid 2px #000; padding-bottom: 5px\">IOR</div></td><td style=\"white-space: nowrap; max-width: 500px; overflow: hidden; text-overflow: ellipsis; \" colspan=\"1\"><div style=\"text-align: left;border-bottom: solid 2px #000; padding-bottom: 5px\">NM0</div></td><td style=\"white-space: nowrap; max-width: 500px; overflow: hidden; text-overflow: ellipsis; \" colspan=\"1\"><div style=\"text-align: left;border-bottom: solid 2px #000; padding-bottom: 5px\">NM1</div></td><td style=\"white-space: nowrap; max-width: 500px; overflow: hidden; text-overflow: ellipsis; \" colspan=\"1\"><div style=\"text-align: left;border-bottom: solid 2px #000; padding-bottom: 5px\">FLT20</div></td><td style=\"white-space: nowrap; max-width: 500px; overflow: hidden; text-overflow: ellipsis; \" colspan=\"1\"><div style=\"text-align: left;border-bottom: solid 2px #000; padding-bottom: 5px\">LLK0</div></td><td style=\"white-space: nowrap; max-width: 500px; overflow: hidden; text-overflow: ellipsis; \" colspan=\"1\"><div style=\"text-align: left;border-bottom: solid 2px #000; padding-bottom: 5px\">GWAS</div></td><td style=\"white-space: nowrap; max-width: 500px; overflow: hidden; text-overflow: ellipsis; \" colspan=\"1\"><div style=\"text-align: left;border-bottom: solid 2px #000; padding-bottom: 5px\">SVM</div></td><td style=\"white-space: nowrap; max-width: 500px; overflow: hidden; text-overflow: ellipsis; \" colspan=\"1\"><div style=\"text-align: left;border-bottom: solid 2px #000; padding-bottom: 5px\">ANN</div></td><td style=\"white-space: nowrap; max-width: 500px; overflow: hidden; text-overflow: ellipsis; \" colspan=\"1\"><div style=\"text-align: left;border-bottom: solid 2px #000; padding-bottom: 5px\">FMIS10</div></td><td style=\"white-space: nowrap; max-width: 500px; overflow: hidden; text-overflow: ellipsis; \" colspan=\"1\"><div style=\"text-align: left;border-bottom: solid 2px #000; padding-bottom: 5px\">MAX_HM3_R2</div></td><td style=\"white-space: nowrap; max-width: 500px; overflow: hidden; text-overflow: ellipsis; \" colspan=\"1\"><div style=\"text-align: left;border-bottom: solid 2px #000; padding-bottom: 5px\">LOG_HM3_BUDDY_03</div></td><td style=\"white-space: nowrap; max-width: 500px; overflow: hidden; text-overflow: ellipsis; \" colspan=\"1\"><div style=\"text-align: left;border-bottom: solid 2px #000; padding-bottom: 5px\">LOG_HM3_BUDDY_05</div></td><td style=\"white-space: nowrap; max-width: 500px; overflow: hidden; text-overflow: ellipsis; \" colspan=\"1\"><div style=\"text-align: left;border-bottom: solid 2px #000; padding-bottom: 5px\">LOG_HM3_BUDDY_08</div></td><td style=\"white-space: nowrap; max-width: 500px; overflow: hidden; text-overflow: ellipsis; \" colspan=\"1\"><div style=\"text-align: left;border-bottom: solid 2px #000; padding-bottom: 5px\">LOG_HM3_DIST_03</div></td><td style=\"white-space: nowrap; max-width: 500px; overflow: hidden; text-overflow: ellipsis; \" colspan=\"1\"><div style=\"text-align: left;border-bottom: solid 2px #000; padding-bottom: 5px\">LOG_HM3_DIST_05</div></td><td style=\"white-space: nowrap; max-width: 500px; overflow: hidden; text-overflow: ellipsis; \" colspan=\"1\"><div style=\"text-align: left;border-bottom: solid 2px #000; padding-bottom: 5px\">LOG_HM3_DIST_08</div></td><td style=\"white-space: nowrap; max-width: 500px; overflow: hidden; text-overflow: ellipsis; \" colspan=\"1\"><div style=\"text-align: left;border-bottom: solid 2px #000; padding-bottom: 5px\">DUP_NH_ALL</div></td><td style=\"white-space: nowrap; max-width: 500px; overflow: hidden; text-overflow: ellipsis; \" colspan=\"1\"><div style=\"text-align: left;border-bottom: solid 2px #000; padding-bottom: 5px\">DUP_NH_DIS</div></td><td style=\"white-space: nowrap; max-width: 500px; overflow: hidden; text-overflow: ellipsis; \" colspan=\"1\"><div style=\"text-align: left;border-bottom: solid 2px #000; padding-bottom: 5px\">TRI_NH_ALL</div></td><td style=\"white-space: nowrap; max-width: 500px; overflow: hidden; text-overflow: ellipsis; \" colspan=\"1\"><div style=\"text-align: left;border-bottom: solid 2px #000; padding-bottom: 5px\">TRI_NH_DIS</div></td></tr><tr><td style=\"white-space: nowrap; max-width: 500px; overflow: hidden; text-overflow: ellipsis; text-align: left;\">locus&lt;GRCh38&gt;</td><td style=\"white-space: nowrap; max-width: 500px; overflow: hidden; text-overflow: ellipsis; text-align: left;\">array&lt;str&gt;</td><td style=\"white-space: nowrap; max-width: 500px; overflow: hidden; text-overflow: ellipsis; text-align: left;\">str</td><td style=\"white-space: nowrap; max-width: 500px; overflow: hidden; text-overflow: ellipsis; text-align: left;\">float64</td><td style=\"white-space: nowrap; max-width: 500px; overflow: hidden; text-overflow: ellipsis; text-align: left;\">set&lt;str&gt;</td><td style=\"white-space: nowrap; max-width: 500px; overflow: hidden; text-overflow: ellipsis; text-align: left;\">float64</td><td style=\"white-space: nowrap; max-width: 500px; overflow: hidden; text-overflow: ellipsis; text-align: left;\">array&lt;int32&gt;</td><td style=\"white-space: nowrap; max-width: 500px; overflow: hidden; text-overflow: ellipsis; text-align: left;\">int32</td><td style=\"white-space: nowrap; max-width: 500px; overflow: hidden; text-overflow: ellipsis; text-align: left;\">float64</td><td style=\"white-space: nowrap; max-width: 500px; overflow: hidden; text-overflow: ellipsis; text-align: left;\">float64</td><td style=\"white-space: nowrap; max-width: 500px; overflow: hidden; text-overflow: ellipsis; text-align: left;\">float64</td><td style=\"white-space: nowrap; max-width: 500px; overflow: hidden; text-overflow: ellipsis; text-align: left;\">float64</td><td style=\"white-space: nowrap; max-width: 500px; overflow: hidden; text-overflow: ellipsis; text-align: left;\">float64</td><td style=\"white-space: nowrap; max-width: 500px; overflow: hidden; text-overflow: ellipsis; text-align: left;\">float64</td><td style=\"white-space: nowrap; max-width: 500px; overflow: hidden; text-overflow: ellipsis; text-align: left;\">array&lt;float64&gt;</td><td style=\"white-space: nowrap; max-width: 500px; overflow: hidden; text-overflow: ellipsis; text-align: left;\">float64</td><td style=\"white-space: nowrap; max-width: 500px; overflow: hidden; text-overflow: ellipsis; text-align: left;\">float64</td><td style=\"white-space: nowrap; max-width: 500px; overflow: hidden; text-overflow: ellipsis; text-align: left;\">int32</td><td style=\"white-space: nowrap; max-width: 500px; overflow: hidden; text-overflow: ellipsis; text-align: left;\">float64</td><td style=\"white-space: nowrap; max-width: 500px; overflow: hidden; text-overflow: ellipsis; text-align: left;\">float64</td><td style=\"white-space: nowrap; max-width: 500px; overflow: hidden; text-overflow: ellipsis; text-align: left;\">float64</td><td style=\"white-space: nowrap; max-width: 500px; overflow: hidden; text-overflow: ellipsis; text-align: left;\">float64</td><td style=\"white-space: nowrap; max-width: 500px; overflow: hidden; text-overflow: ellipsis; text-align: left;\">float64</td><td style=\"white-space: nowrap; max-width: 500px; overflow: hidden; text-overflow: ellipsis; text-align: left;\">float64</td><td style=\"white-space: nowrap; max-width: 500px; overflow: hidden; text-overflow: ellipsis; text-align: left;\">float64</td><td style=\"white-space: nowrap; max-width: 500px; overflow: hidden; text-overflow: ellipsis; text-align: left;\">float64</td><td style=\"white-space: nowrap; max-width: 500px; overflow: hidden; text-overflow: ellipsis; text-align: left;\">array&lt;float64&gt;</td><td style=\"white-space: nowrap; max-width: 500px; overflow: hidden; text-overflow: ellipsis; text-align: left;\">float64</td><td style=\"white-space: nowrap; max-width: 500px; overflow: hidden; text-overflow: ellipsis; text-align: left;\">array&lt;str&gt;</td><td style=\"white-space: nowrap; max-width: 500px; overflow: hidden; text-overflow: ellipsis; text-align: left;\">float64</td><td style=\"white-space: nowrap; max-width: 500px; overflow: hidden; text-overflow: ellipsis; text-align: left;\">array&lt;str&gt;</td><td style=\"white-space: nowrap; max-width: 500px; overflow: hidden; text-overflow: ellipsis; text-align: left;\">float64</td><td style=\"white-space: nowrap; max-width: 500px; overflow: hidden; text-overflow: ellipsis; text-align: left;\">float64</td><td style=\"white-space: nowrap; max-width: 500px; overflow: hidden; text-overflow: ellipsis; text-align: left;\">float64</td><td style=\"white-space: nowrap; max-width: 500px; overflow: hidden; text-overflow: ellipsis; text-align: left;\">float64</td><td style=\"white-space: nowrap; max-width: 500px; overflow: hidden; text-overflow: ellipsis; text-align: left;\">float64</td><td style=\"white-space: nowrap; max-width: 500px; overflow: hidden; text-overflow: ellipsis; text-align: left;\">float64</td><td style=\"white-space: nowrap; max-width: 500px; overflow: hidden; text-overflow: ellipsis; text-align: left;\">float64</td><td style=\"white-space: nowrap; max-width: 500px; overflow: hidden; text-overflow: ellipsis; text-align: left;\">float64</td><td style=\"white-space: nowrap; max-width: 500px; overflow: hidden; text-overflow: ellipsis; text-align: left;\">int32</td><td style=\"white-space: nowrap; max-width: 500px; overflow: hidden; text-overflow: ellipsis; text-align: left;\">int32</td><td style=\"white-space: nowrap; max-width: 500px; overflow: hidden; text-overflow: ellipsis; text-align: left;\">int32</td><td style=\"white-space: nowrap; max-width: 500px; overflow: hidden; text-overflow: ellipsis; text-align: left;\">int32</td></tr>\n",
       "</thead><tbody><tr><td style=\"white-space: nowrap; max-width: 500px; overflow: hidden; text-overflow: ellipsis; \">chr2:202123069</td><td style=\"white-space: nowrap; max-width: 500px; overflow: hidden; text-overflow: ellipsis; \">[&quot;C&quot;,&quot;T&quot;]</td><td style=\"white-space: nowrap; max-width: 500px; overflow: hidden; text-overflow: ellipsis; \">&quot;rs979162835&quot;</td><td style=\"white-space: nowrap; max-width: 500px; overflow: hidden; text-overflow: ellipsis; \">2.55e+02</td><td style=\"white-space: nowrap; max-width: 500px; overflow: hidden; text-overflow: ellipsis; \">{}</td><td style=\"white-space: nowrap; max-width: 500px; overflow: hidden; text-overflow: ellipsis; \">3.41e+01</td><td style=\"white-space: nowrap; max-width: 500px; overflow: hidden; text-overflow: ellipsis; \">[0]</td><td style=\"white-space: nowrap; max-width: 500px; overflow: hidden; text-overflow: ellipsis; \">14964</td><td style=\"white-space: nowrap; max-width: 500px; overflow: hidden; text-overflow: ellipsis; \">-1.63e-05</td><td style=\"white-space: nowrap; max-width: 500px; overflow: hidden; text-overflow: ellipsis; \">-2.83e-05</td><td style=\"white-space: nowrap; max-width: 500px; overflow: hidden; text-overflow: ellipsis; \">2.82e-01</td><td style=\"white-space: nowrap; max-width: 500px; overflow: hidden; text-overflow: ellipsis; \">-1.59e-05</td><td style=\"white-space: nowrap; max-width: 500px; overflow: hidden; text-overflow: ellipsis; \">8.57e-05</td><td style=\"white-space: nowrap; max-width: 500px; overflow: hidden; text-overflow: ellipsis; \">1.00e-05</td><td style=\"white-space: nowrap; max-width: 500px; overflow: hidden; text-overflow: ellipsis; \">[8.73e-06,5.09e-04,-6.54e-04,6.45e-05,4.86e-05,1.00e+00]</td><td style=\"white-space: nowrap; max-width: 500px; overflow: hidden; text-overflow: ellipsis; \">5.08e-01</td><td style=\"white-space: nowrap; max-width: 500px; overflow: hidden; text-overflow: ellipsis; \">4.26e-01</td><td style=\"white-space: nowrap; max-width: 500px; overflow: hidden; text-overflow: ellipsis; \">NA</td><td style=\"white-space: nowrap; max-width: 500px; overflow: hidden; text-overflow: ellipsis; \">7.82e-02</td><td style=\"white-space: nowrap; max-width: 500px; overflow: hidden; text-overflow: ellipsis; \">0.00e+00</td><td style=\"white-space: nowrap; max-width: 500px; overflow: hidden; text-overflow: ellipsis; \">-1.56e-01</td><td style=\"white-space: nowrap; max-width: 500px; overflow: hidden; text-overflow: ellipsis; \">-3.17e-01</td><td style=\"white-space: nowrap; max-width: 500px; overflow: hidden; text-overflow: ellipsis; \">-2.15e+00</td><td style=\"white-space: nowrap; max-width: 500px; overflow: hidden; text-overflow: ellipsis; \">-5.54e-01</td><td style=\"white-space: nowrap; max-width: 500px; overflow: hidden; text-overflow: ellipsis; \">1.25e+00</td><td style=\"white-space: nowrap; max-width: 500px; overflow: hidden; text-overflow: ellipsis; \">3.29e-01</td><td style=\"white-space: nowrap; max-width: 500px; overflow: hidden; text-overflow: ellipsis; \">NA</td><td style=\"white-space: nowrap; max-width: 500px; overflow: hidden; text-overflow: ellipsis; \">-9.29e+01</td><td style=\"white-space: nowrap; max-width: 500px; overflow: hidden; text-overflow: ellipsis; \">NA</td><td style=\"white-space: nowrap; max-width: 500px; overflow: hidden; text-overflow: ellipsis; \">8.95e-01</td><td style=\"white-space: nowrap; max-width: 500px; overflow: hidden; text-overflow: ellipsis; \">[&quot;T|intron_variant|MODIFIER|KIAA2012|ENSG00000182329|transcript|ENST00000409515.3|processed_transcript|11/14|n.2099-2145C&gt;T||||||&quot;,&quot;T|intron_variant|MODIFIER|KIAA2012|ENSG00000283310|transcript|ENST00000541917.6|protein_coding|11/21|c.1868-2145C&gt;T||||||&quot;,&quot;T|intron_variant|MODIFIER|KIAA2012|ENSG00000182329|transcript|ENST00000498697.2|protein_coding|11/23|c.1763-2145C&gt;T||||||&quot;]</td><td style=\"white-space: nowrap; max-width: 500px; overflow: hidden; text-overflow: ellipsis; \">1.73e-04</td><td style=\"white-space: nowrap; max-width: 500px; overflow: hidden; text-overflow: ellipsis; \">4.58e-03</td><td style=\"white-space: nowrap; max-width: 500px; overflow: hidden; text-overflow: ellipsis; \">0.00e+00</td><td style=\"white-space: nowrap; max-width: 500px; overflow: hidden; text-overflow: ellipsis; \">0.00e+00</td><td style=\"white-space: nowrap; max-width: 500px; overflow: hidden; text-overflow: ellipsis; \">0.00e+00</td><td style=\"white-space: nowrap; max-width: 500px; overflow: hidden; text-overflow: ellipsis; \">6.00e+00</td><td style=\"white-space: nowrap; max-width: 500px; overflow: hidden; text-overflow: ellipsis; \">6.00e+00</td><td style=\"white-space: nowrap; max-width: 500px; overflow: hidden; text-overflow: ellipsis; \">6.00e+00</td><td style=\"white-space: nowrap; max-width: 500px; overflow: hidden; text-overflow: ellipsis; \">0</td><td style=\"white-space: nowrap; max-width: 500px; overflow: hidden; text-overflow: ellipsis; \">0</td><td style=\"white-space: nowrap; max-width: 500px; overflow: hidden; text-overflow: ellipsis; \">0</td><td style=\"white-space: nowrap; max-width: 500px; overflow: hidden; text-overflow: ellipsis; \">0</td></tr>\n",
       "</tbody></table>"
      ],
      "text/plain": [
       "+----------------+------------+---------------+----------+----------+\n",
       "| locus          | alleles    | rsid          |     qual | filters  |\n",
       "+----------------+------------+---------------+----------+----------+\n",
       "| locus<GRCh38>  | array<str> | str           |  float64 | set<str> |\n",
       "+----------------+------------+---------------+----------+----------+\n",
       "| chr2:202123069 | [\"C\",\"T\"]  | \"rs979162835\" | 2.55e+02 | {}       |\n",
       "+----------------+------------+---------------+----------+----------+\n",
       "\n",
       "+------------+--------------+---------+-------------+----------------+\n",
       "| info.AVGDP | info.AC      | info.AN | info.FIBC_P | info.HWE_SLP_P |\n",
       "+------------+--------------+---------+-------------+----------------+\n",
       "|    float64 | array<int32> |   int32 |     float64 |        float64 |\n",
       "+------------+--------------+---------+-------------+----------------+\n",
       "|   3.41e+01 | [0]          |   14964 |   -1.63e-05 |      -2.83e-05 |\n",
       "+------------+--------------+---------+-------------+----------------+\n",
       "\n",
       "+-------------+----------------+-------------+-------------+\n",
       "| info.FIBC_I | info.HWE_SLP_I | info.MAX_IF | info.MIN_IF |\n",
       "+-------------+----------------+-------------+-------------+\n",
       "|     float64 |        float64 |     float64 |     float64 |\n",
       "+-------------+----------------+-------------+-------------+\n",
       "|    2.82e-01 |      -1.59e-05 |    8.57e-05 |    1.00e-05 |\n",
       "+-------------+----------------+-------------+-------------+\n",
       "\n",
       "+----------------------------------------------------------+----------+\n",
       "| info.BETA_IF                                             | info.ABE |\n",
       "+----------------------------------------------------------+----------+\n",
       "| array<float64>                                           |  float64 |\n",
       "+----------------------------------------------------------+----------+\n",
       "| [8.73e-06,5.09e-04,-6.54e-04,6.45e-05,4.86e-05,1.00e+00] | 5.08e-01 |\n",
       "+----------------------------------------------------------+----------+\n",
       "\n",
       "+----------+--------------+----------+----------+-----------+-----------+\n",
       "| info.ABZ | info.NS_NREF | info.BQZ | info.MQZ |  info.CYZ |  info.STZ |\n",
       "+----------+--------------+----------+----------+-----------+-----------+\n",
       "|  float64 |        int32 |  float64 |  float64 |   float64 |   float64 |\n",
       "+----------+--------------+----------+----------+-----------+-----------+\n",
       "| 4.26e-01 |           NA | 7.82e-02 | 0.00e+00 | -1.56e-01 | -3.17e-01 |\n",
       "+----------+--------------+----------+----------+-----------+-----------+\n",
       "\n",
       "+-----------+-----------+----------+----------+----------------+-----------+\n",
       "|  info.NMZ |  info.IOR | info.NM0 | info.NM1 | info.FLT20     | info.LLK0 |\n",
       "+-----------+-----------+----------+----------+----------------+-----------+\n",
       "|   float64 |   float64 |  float64 |  float64 | array<float64> |   float64 |\n",
       "+-----------+-----------+----------+----------+----------------+-----------+\n",
       "| -2.15e+00 | -5.54e-01 | 1.25e+00 | 3.29e-01 | NA             | -9.29e+01 |\n",
       "+-----------+-----------+----------+----------+----------------+-----------+\n",
       "\n",
       "+------------+----------+\n",
       "| info.GWAS  | info.SVM |\n",
       "+------------+----------+\n",
       "| array<str> |  float64 |\n",
       "+------------+----------+\n",
       "| NA         | 8.95e-01 |\n",
       "+------------+----------+\n",
       "\n",
       "+------------------------------------------------------------------------------+\n",
       "| info.ANN                                                                     |\n",
       "+------------------------------------------------------------------------------+\n",
       "| array<str>                                                                   |\n",
       "+------------------------------------------------------------------------------+\n",
       "| [\"T|intron_variant|MODIFIER|KIAA2012|ENSG00000182329|transcript|ENST00000... |\n",
       "+------------------------------------------------------------------------------+\n",
       "\n",
       "+-------------+-----------------+-----------------------+\n",
       "| info.FMIS10 | info.MAX_HM3_R2 | info.LOG_HM3_BUDDY_03 |\n",
       "+-------------+-----------------+-----------------------+\n",
       "|     float64 |         float64 |               float64 |\n",
       "+-------------+-----------------+-----------------------+\n",
       "|    1.73e-04 |        4.58e-03 |              0.00e+00 |\n",
       "+-------------+-----------------+-----------------------+\n",
       "\n",
       "+-----------------------+-----------------------+----------------------+\n",
       "| info.LOG_HM3_BUDDY_05 | info.LOG_HM3_BUDDY_08 | info.LOG_HM3_DIST_03 |\n",
       "+-----------------------+-----------------------+----------------------+\n",
       "|               float64 |               float64 |              float64 |\n",
       "+-----------------------+-----------------------+----------------------+\n",
       "|              0.00e+00 |              0.00e+00 |             6.00e+00 |\n",
       "+-----------------------+-----------------------+----------------------+\n",
       "\n",
       "+----------------------+----------------------+-----------------+\n",
       "| info.LOG_HM3_DIST_05 | info.LOG_HM3_DIST_08 | info.DUP_NH_ALL |\n",
       "+----------------------+----------------------+-----------------+\n",
       "|              float64 |              float64 |           int32 |\n",
       "+----------------------+----------------------+-----------------+\n",
       "|             6.00e+00 |             6.00e+00 |               0 |\n",
       "+----------------------+----------------------+-----------------+\n",
       "\n",
       "+-----------------+-----------------+-----------------+\n",
       "| info.DUP_NH_DIS | info.TRI_NH_ALL | info.TRI_NH_DIS |\n",
       "+-----------------+-----------------+-----------------+\n",
       "|           int32 |           int32 |           int32 |\n",
       "+-----------------+-----------------+-----------------+\n",
       "|               0 |               0 |               0 |\n",
       "+-----------------+-----------------+-----------------+"
      ]
     },
     "metadata": {},
     "output_type": "display_data"
    },
    {
     "name": "stderr",
     "output_type": "stream",
     "text": [
      "2021-02-11 10:57:24 Hail: INFO: Coerced sorted dataset\n",
      "2021-02-11 10:57:24 Hail: INFO: reading 1 of 306 data partitions\n"
     ]
    },
    {
     "name": "stdout",
     "output_type": "stream",
     "text": [
      "Annotate Heterozygous Alleles\n"
     ]
    },
    {
     "name": "stderr",
     "output_type": "stream",
     "text": [
      "2021-02-11 10:59:28 Hail: INFO: Coerced sorted dataset\n",
      "2021-02-11 10:59:28 Hail: INFO: reading 1 of 306 data partitions\n"
     ]
    },
    {
     "name": "stdout",
     "output_type": "stream",
     "text": [
      "Annotate N Hets\n"
     ]
    },
    {
     "name": "stderr",
     "output_type": "stream",
     "text": [
      "2021-02-11 11:01:34 Hail: INFO: Coerced sorted dataset\n",
      "2021-02-11 11:01:35 Hail: INFO: reading 1 of 306 data partitions\n"
     ]
    },
    {
     "name": "stdout",
     "output_type": "stream",
     "text": [
      "Annotate Homozygous Alleles\n"
     ]
    },
    {
     "name": "stderr",
     "output_type": "stream",
     "text": [
      "2021-02-11 11:03:29 Hail: INFO: Coerced sorted dataset\n",
      "2021-02-11 11:03:29 Hail: INFO: reading 1 of 306 data partitions\n"
     ]
    },
    {
     "name": "stdout",
     "output_type": "stream",
     "text": [
      "Annotating N Homs\n"
     ]
    },
    {
     "name": "stderr",
     "output_type": "stream",
     "text": [
      "2021-02-11 11:05:23 Hail: INFO: Coerced sorted dataset\n",
      "2021-02-11 11:05:23 Hail: INFO: reading 1 of 306 data partitions\n",
      "2021-02-11 11:10:13 Hail: INFO: merging 1 files totalling 1.2K...\n",
      "2021-02-11 11:10:13 Hail: INFO: while writing:\n",
      "    gs://test1haseeb/Kashif-Lookup/gs://pgr-wgs-8k/VCF/vcf_DP10/pgr7k_chr2.vcf.gzchr2:202123069-202123070.tsv\n",
      "  merge time: 487.671ms\n",
      "2021-02-11 11:12:26 Hail: INFO: Coerced sorted dataset\n",
      "2021-02-11 11:12:26 Hail: INFO: reading 1 of 1035 data partitions\n"
     ]
    }
   ],
   "source": [
    "files = [\"gs://pgr-wes-r20/GL_by_chrom/CNCD_Freeze_Two.2.GL.vcf.gz\", \"gs://pgr_wes_30k/GRCh38/chr2_30k_grch38.vcf.bgz\",\n",
    "        \"gs://pgr-wgs-8k/VCF/vcf_DP10/pgr7k_chr2.vcf.gz\", \"gs://pgr-wgs-2k/chr2_PAK_indv.recode.vcf.gz\"]\n",
    "\n",
    "recode = {f\"{i}\":f\"chr{i}\" for i in (list(range(1, 23)) + ['X', 'Y'])}\n",
    "\n",
    "pos = 'chr2:202123069-202123070'\n",
    "\n",
    "for file in files:\n",
    "    data = hl.import_vcf(file, reference_genome=\"GRCh38\", force_bgz=True, contig_recoding=recode)\n",
    "    ds_result1 = hl.filter_intervals(data, [hl.parse_locus_interval(pos, reference_genome='GRCh38')])\n",
    "    ds_result1.rows().show()\n",
    "    if ds_result1.count_rows() != 0:\n",
    "        print('Annotate Heterozygous Alleles')\n",
    "        ds_result1 = ds_result1.annotate_rows(hets = hl.agg.filter(ds_result1.GT.is_het(),hl.agg.collect(ds_result1.s)))\n",
    "        ds_result1.count()\n",
    "        print('Annotate N Hets')\n",
    "        ds_result4 = ds_result1.annotate_rows(n_het = hl.agg.count_where(ds_result1.GT.is_het()))\n",
    "        ds_result4.count()\n",
    "        print('Annotate Homozygous Alleles')\n",
    "        ds_result3 = ds_result4.annotate_rows(homs = hl.agg.filter(ds_result4.GT.is_hom_var(),hl.agg.collect(ds_result4.s)))\n",
    "        ds_result3.count()\n",
    "        print('Annotating N Homs')\n",
    "        ds_result5 = ds_result3.annotate_rows(n_hom = hl.agg.count_where(ds_result3.GT.is_hom_var()))\n",
    "\n",
    "        ds_result5.rows().export(\"gs://test1haseeb/Kashif-Lookup/\"+file+pos+\".tsv\")\n",
    "    "
   ]
  },
  {
   "cell_type": "code",
   "execution_count": null,
   "metadata": {},
   "outputs": [],
   "source": [
    "ds_result1.count()"
   ]
  },
  {
   "cell_type": "code",
   "execution_count": null,
   "metadata": {},
   "outputs": [],
   "source": [
    "# if ds_result1.count()[0] != 0:\n",
    "ds_result1.count_rows()"
   ]
  },
  {
   "cell_type": "code",
   "execution_count": null,
   "metadata": {},
   "outputs": [],
   "source": [
    "data6 = hl.read_matrix_table(\"gs://test1haseeb/GOLGA6L6_20K_vep.mt\")\n",
    "data6.describe()"
   ]
  },
  {
   "cell_type": "code",
   "execution_count": null,
   "metadata": {},
   "outputs": [],
   "source": []
  },
  {
   "cell_type": "code",
   "execution_count": null,
   "metadata": {
    "scrolled": true
   },
   "outputs": [],
   "source": [
    "data6 = hl.read_matrix_table(\"gs://test1haseeb/GOLGA6L6_20K_vep.mt\")\n",
    "data1 = data6.annotate_rows(\n",
    "    info=data6.info.annotate(GeneName=data6.vep.transcript_consequences.gene_symbol,\n",
    "                             EnsembleGeneId=data6.vep.transcript_consequences.gene_id,\n",
    "                             variantConsequence=data6.vep.most_severe_consequence,\n",
    "                             consequence_terms=data6.vep.transcript_consequences.consequence_terms,\n",
    "                             transcript_affected=data6.vep.transcript_consequences.transcript_id,\n",
    "                             lof=data6.vep.transcript_consequences.lof,\n",
    "                             lof_filter=data6.vep.transcript_consequences.lof_filter,\n",
    "                             biotype=data6.vep.transcript_consequences.biotype,\n",
    "                             canonical=data6.vep.transcript_consequences.canonical\n",
    "                             # should we add csq_score????\n",
    "                               ))\n",
    "data1.rows().show()\n",
    "data2 = data1.rows().to_pandas()\n",
    "data2.to_excel('GOLGA6L6_20K_vep.xlsx')\n",
    "!gsutil cp GOLGA6L6_20K_vep.xlsx gs://test1haseeb/var-lookup/"
   ]
  },
  {
   "cell_type": "code",
   "execution_count": null,
   "metadata": {
    "scrolled": true
   },
   "outputs": [],
   "source": [
    "data6 = hl.read_matrix_table(\"gs://test1haseeb/GALNT9_30K_vep.mt\")\n",
    "data1 = data6.annotate_rows(\n",
    "    info=data6.info.annotate(GeneName=data6.vep.transcript_consequences.gene_symbol,\n",
    "                             EnsembleGeneId=data6.vep.transcript_consequences.gene_id,\n",
    "                             variantConsequence=data6.vep.most_severe_consequence,\n",
    "                             consequence_terms=data6.vep.transcript_consequences.consequence_terms,\n",
    "                             transcript_affected=data6.vep.transcript_consequences.transcript_id,\n",
    "                             lof=data6.vep.transcript_consequences.lof,\n",
    "                             lof_filter=data6.vep.transcript_consequences.lof_filter,\n",
    "                             biotype=data6.vep.transcript_consequences.biotype,\n",
    "                             canonical=data6.vep.transcript_consequences.canonical\n",
    "                             # should we add csq_score????\n",
    "                               ))\n",
    "data1.rows().show()\n",
    "data2 = data1.rows().to_pandas()\n",
    "data2.to_excel('GALNT9_30K_vep.xlsx')\n",
    "!gsutil cp GALNT9_30K_vep.xlsx gs://test1haseeb/var-lookup/\n",
    "# data1.rows().export(\"gs://test1haseeb/var-lookup/GALNT9_30K_vep.tsv\")"
   ]
  },
  {
   "cell_type": "code",
   "execution_count": null,
   "metadata": {
    "scrolled": true
   },
   "outputs": [],
   "source": [
    "data6 = hl.read_matrix_table(\"gs://test1haseeb/KIR3DL1_20K_vep.mt\")\n",
    "data1 = data6.annotate_rows(\n",
    "    info=data6.info.annotate(GeneName=data6.vep.transcript_consequences.gene_symbol,\n",
    "                             EnsembleGeneId=data6.vep.transcript_consequences.gene_id,\n",
    "                             variantConsequence=data6.vep.most_severe_consequence,\n",
    "                             consequence_terms=data6.vep.transcript_consequences.consequence_terms,\n",
    "                             transcript_affected=data6.vep.transcript_consequences.transcript_id,\n",
    "                             lof=data6.vep.transcript_consequences.lof,\n",
    "                             lof_filter=data6.vep.transcript_consequences.lof_filter,\n",
    "                             biotype=data6.vep.transcript_consequences.biotype,\n",
    "                             canonical=data6.vep.transcript_consequences.canonical\n",
    "                             # should we add csq_score????\n",
    "                               ))\n",
    "data1.rows().show()\n",
    "data2 = data1.rows().to_pandas()\n",
    "data2.to_excel('KIR3DL1_20K_vep.xlsx')\n",
    "!gsutil cp KIR3DL1_20K_vep.xlsx gs://test1haseeb/var-lookup/\n",
    "# data1.rows().export(\"gs://test1haseeb/var-lookup/KIR3DL1_20K_vep.tsv\")"
   ]
  },
  {
   "cell_type": "code",
   "execution_count": null,
   "metadata": {
    "scrolled": true
   },
   "outputs": [],
   "source": [
    "data6 = hl.read_matrix_table(\"gs://test1haseeb/LYPLAL1_20K.mt\")\n",
    "data1 = data6.annotate_rows(\n",
    "    info=data6.info.annotate(GeneName=data6.vep.transcript_consequences.gene_symbol,\n",
    "                             EnsembleGeneId=data6.vep.transcript_consequences.gene_id,\n",
    "                             variantConsequence=data6.vep.most_severe_consequence,\n",
    "                             consequence_terms=data6.vep.transcript_consequences.consequence_terms,\n",
    "                             transcript_affected=data6.vep.transcript_consequences.transcript_id,\n",
    "                             lof=data6.vep.transcript_consequences.lof,\n",
    "                             lof_filter=data6.vep.transcript_consequences.lof_filter,\n",
    "                             biotype=data6.vep.transcript_consequences.biotype,\n",
    "                             canonical=data6.vep.transcript_consequences.canonical\n",
    "                             # should we add csq_score????\n",
    "                               ))\n",
    "data1.rows().show()\n",
    "data2 = data1.rows().to_pandas()\n",
    "data2.to_excel('LYPLAL1_20K_vep.xlsx')\n",
    "!gsutil cp LYPLAL1_20K_vep.xlsx gs://test1haseeb/var-lookup/\n",
    "# data1.rows().export(\"gs://test1haseeb/var-lookup/LYPLAL1_20K_vep.tsv\")"
   ]
  },
  {
   "cell_type": "code",
   "execution_count": null,
   "metadata": {},
   "outputs": [],
   "source": [
    "data6 = hl.read_matrix_table(\"gs://test1haseeb/LYPLAL1_30K_vep.mt\")\n",
    "data1 = data6.annotate_rows(\n",
    "    info=data6.info.annotate(GeneName=data6.vep.transcript_consequences.gene_symbol,\n",
    "                             EnsembleGeneId=data6.vep.transcript_consequences.gene_id,\n",
    "                             variantConsequence=data6.vep.most_severe_consequence,\n",
    "                             consequence_terms=data6.vep.transcript_consequences.consequence_terms,\n",
    "                             transcript_affected=data6.vep.transcript_consequences.transcript_id,\n",
    "                             lof=data6.vep.transcript_consequences.lof,\n",
    "                             lof_filter=data6.vep.transcript_consequences.lof_filter,\n",
    "                             biotype=data6.vep.transcript_consequences.biotype,\n",
    "                             canonical=data6.vep.transcript_consequences.canonical\n",
    "                             # should we add csq_score????\n",
    "                               ))\n",
    "data1.rows().show()\n",
    "data2 = data1.rows().to_pandas()\n",
    "data2.to_excel('LYPLAL1_30K_vep.xlsx')\n",
    "!gsutil cp LYPLAL1_30K_vep.xlsx gs://test1haseeb/var-lookup/\n",
    "# data1.rows().export(\"gs://test1haseeb/var-lookup/LYPLAL1_30K_vep.tsv\")"
   ]
  },
  {
   "cell_type": "code",
   "execution_count": null,
   "metadata": {},
   "outputs": [],
   "source": []
  },
  {
   "cell_type": "code",
   "execution_count": null,
   "metadata": {},
   "outputs": [],
   "source": []
  },
  {
   "cell_type": "code",
   "execution_count": null,
   "metadata": {},
   "outputs": [],
   "source": []
  },
  {
   "cell_type": "code",
   "execution_count": null,
   "metadata": {},
   "outputs": [],
   "source": []
  },
  {
   "cell_type": "code",
   "execution_count": null,
   "metadata": {},
   "outputs": [],
   "source": []
  }
 ],
 "metadata": {
  "kernelspec": {
   "display_name": "Hail",
   "language": "python",
   "name": "hail"
  },
  "language_info": {
   "codemirror_mode": {
    "name": "ipython",
    "version": 3
   },
   "file_extension": ".py",
   "mimetype": "text/x-python",
   "name": "python",
   "nbconvert_exporter": "python",
   "pygments_lexer": "ipython3",
   "version": "3.6.10"
  }
 },
 "nbformat": 4,
 "nbformat_minor": 2
}